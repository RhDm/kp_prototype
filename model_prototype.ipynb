{
 "cells": [
  {
   "cell_type": "code",
   "execution_count": 1,
   "metadata": {},
   "outputs": [
    {
     "data": {
      "text/html": [
       "\n",
       "    <div class=\"bk-root\">\n",
       "        <a href=\"https://bokeh.org\" target=\"_blank\" class=\"bk-logo bk-logo-small bk-logo-notebook\"></a>\n",
       "        <span id=\"1002\">Loading BokehJS ...</span>\n",
       "    </div>"
      ]
     },
     "metadata": {},
     "output_type": "display_data"
    },
    {
     "data": {
      "application/javascript": [
       "\n",
       "(function(root) {\n",
       "  function now() {\n",
       "    return new Date();\n",
       "  }\n",
       "\n",
       "  var force = true;\n",
       "\n",
       "  if (typeof root._bokeh_onload_callbacks === \"undefined\" || force === true) {\n",
       "    root._bokeh_onload_callbacks = [];\n",
       "    root._bokeh_is_loading = undefined;\n",
       "  }\n",
       "\n",
       "  var JS_MIME_TYPE = 'application/javascript';\n",
       "  var HTML_MIME_TYPE = 'text/html';\n",
       "  var EXEC_MIME_TYPE = 'application/vnd.bokehjs_exec.v0+json';\n",
       "  var CLASS_NAME = 'output_bokeh rendered_html';\n",
       "\n",
       "  /**\n",
       "   * Render data to the DOM node\n",
       "   */\n",
       "  function render(props, node) {\n",
       "    var script = document.createElement(\"script\");\n",
       "    node.appendChild(script);\n",
       "  }\n",
       "\n",
       "  /**\n",
       "   * Handle when an output is cleared or removed\n",
       "   */\n",
       "  function handleClearOutput(event, handle) {\n",
       "    var cell = handle.cell;\n",
       "\n",
       "    var id = cell.output_area._bokeh_element_id;\n",
       "    var server_id = cell.output_area._bokeh_server_id;\n",
       "    // Clean up Bokeh references\n",
       "    if (id != null && id in Bokeh.index) {\n",
       "      Bokeh.index[id].model.document.clear();\n",
       "      delete Bokeh.index[id];\n",
       "    }\n",
       "\n",
       "    if (server_id !== undefined) {\n",
       "      // Clean up Bokeh references\n",
       "      var cmd = \"from bokeh.io.state import curstate; print(curstate().uuid_to_server['\" + server_id + \"'].get_sessions()[0].document.roots[0]._id)\";\n",
       "      cell.notebook.kernel.execute(cmd, {\n",
       "        iopub: {\n",
       "          output: function(msg) {\n",
       "            var id = msg.content.text.trim();\n",
       "            if (id in Bokeh.index) {\n",
       "              Bokeh.index[id].model.document.clear();\n",
       "              delete Bokeh.index[id];\n",
       "            }\n",
       "          }\n",
       "        }\n",
       "      });\n",
       "      // Destroy server and session\n",
       "      var cmd = \"import bokeh.io.notebook as ion; ion.destroy_server('\" + server_id + \"')\";\n",
       "      cell.notebook.kernel.execute(cmd);\n",
       "    }\n",
       "  }\n",
       "\n",
       "  /**\n",
       "   * Handle when a new output is added\n",
       "   */\n",
       "  function handleAddOutput(event, handle) {\n",
       "    var output_area = handle.output_area;\n",
       "    var output = handle.output;\n",
       "\n",
       "    // limit handleAddOutput to display_data with EXEC_MIME_TYPE content only\n",
       "    if ((output.output_type != \"display_data\") || (!Object.prototype.hasOwnProperty.call(output.data, EXEC_MIME_TYPE))) {\n",
       "      return\n",
       "    }\n",
       "\n",
       "    var toinsert = output_area.element.find(\".\" + CLASS_NAME.split(' ')[0]);\n",
       "\n",
       "    if (output.metadata[EXEC_MIME_TYPE][\"id\"] !== undefined) {\n",
       "      toinsert[toinsert.length - 1].firstChild.textContent = output.data[JS_MIME_TYPE];\n",
       "      // store reference to embed id on output_area\n",
       "      output_area._bokeh_element_id = output.metadata[EXEC_MIME_TYPE][\"id\"];\n",
       "    }\n",
       "    if (output.metadata[EXEC_MIME_TYPE][\"server_id\"] !== undefined) {\n",
       "      var bk_div = document.createElement(\"div\");\n",
       "      bk_div.innerHTML = output.data[HTML_MIME_TYPE];\n",
       "      var script_attrs = bk_div.children[0].attributes;\n",
       "      for (var i = 0; i < script_attrs.length; i++) {\n",
       "        toinsert[toinsert.length - 1].firstChild.setAttribute(script_attrs[i].name, script_attrs[i].value);\n",
       "        toinsert[toinsert.length - 1].firstChild.textContent = bk_div.children[0].textContent\n",
       "      }\n",
       "      // store reference to server id on output_area\n",
       "      output_area._bokeh_server_id = output.metadata[EXEC_MIME_TYPE][\"server_id\"];\n",
       "    }\n",
       "  }\n",
       "\n",
       "  function register_renderer(events, OutputArea) {\n",
       "\n",
       "    function append_mime(data, metadata, element) {\n",
       "      // create a DOM node to render to\n",
       "      var toinsert = this.create_output_subarea(\n",
       "        metadata,\n",
       "        CLASS_NAME,\n",
       "        EXEC_MIME_TYPE\n",
       "      );\n",
       "      this.keyboard_manager.register_events(toinsert);\n",
       "      // Render to node\n",
       "      var props = {data: data, metadata: metadata[EXEC_MIME_TYPE]};\n",
       "      render(props, toinsert[toinsert.length - 1]);\n",
       "      element.append(toinsert);\n",
       "      return toinsert\n",
       "    }\n",
       "\n",
       "    /* Handle when an output is cleared or removed */\n",
       "    events.on('clear_output.CodeCell', handleClearOutput);\n",
       "    events.on('delete.Cell', handleClearOutput);\n",
       "\n",
       "    /* Handle when a new output is added */\n",
       "    events.on('output_added.OutputArea', handleAddOutput);\n",
       "\n",
       "    /**\n",
       "     * Register the mime type and append_mime function with output_area\n",
       "     */\n",
       "    OutputArea.prototype.register_mime_type(EXEC_MIME_TYPE, append_mime, {\n",
       "      /* Is output safe? */\n",
       "      safe: true,\n",
       "      /* Index of renderer in `output_area.display_order` */\n",
       "      index: 0\n",
       "    });\n",
       "  }\n",
       "\n",
       "  // register the mime type if in Jupyter Notebook environment and previously unregistered\n",
       "  if (root.Jupyter !== undefined) {\n",
       "    var events = require('base/js/events');\n",
       "    var OutputArea = require('notebook/js/outputarea').OutputArea;\n",
       "\n",
       "    if (OutputArea.prototype.mime_types().indexOf(EXEC_MIME_TYPE) == -1) {\n",
       "      register_renderer(events, OutputArea);\n",
       "    }\n",
       "  }\n",
       "\n",
       "  \n",
       "  if (typeof (root._bokeh_timeout) === \"undefined\" || force === true) {\n",
       "    root._bokeh_timeout = Date.now() + 5000;\n",
       "    root._bokeh_failed_load = false;\n",
       "  }\n",
       "\n",
       "  var NB_LOAD_WARNING = {'data': {'text/html':\n",
       "     \"<div style='background-color: #fdd'>\\n\"+\n",
       "     \"<p>\\n\"+\n",
       "     \"BokehJS does not appear to have successfully loaded. If loading BokehJS from CDN, this \\n\"+\n",
       "     \"may be due to a slow or bad network connection. Possible fixes:\\n\"+\n",
       "     \"</p>\\n\"+\n",
       "     \"<ul>\\n\"+\n",
       "     \"<li>re-rerun `output_notebook()` to attempt to load from CDN again, or</li>\\n\"+\n",
       "     \"<li>use INLINE resources instead, as so:</li>\\n\"+\n",
       "     \"</ul>\\n\"+\n",
       "     \"<code>\\n\"+\n",
       "     \"from bokeh.resources import INLINE\\n\"+\n",
       "     \"output_notebook(resources=INLINE)\\n\"+\n",
       "     \"</code>\\n\"+\n",
       "     \"</div>\"}};\n",
       "\n",
       "  function display_loaded() {\n",
       "    var el = document.getElementById(\"1002\");\n",
       "    if (el != null) {\n",
       "      el.textContent = \"BokehJS is loading...\";\n",
       "    }\n",
       "    if (root.Bokeh !== undefined) {\n",
       "      if (el != null) {\n",
       "        el.textContent = \"BokehJS \" + root.Bokeh.version + \" successfully loaded.\";\n",
       "      }\n",
       "    } else if (Date.now() < root._bokeh_timeout) {\n",
       "      setTimeout(display_loaded, 100)\n",
       "    }\n",
       "  }\n",
       "\n",
       "\n",
       "  function run_callbacks() {\n",
       "    try {\n",
       "      root._bokeh_onload_callbacks.forEach(function(callback) {\n",
       "        if (callback != null)\n",
       "          callback();\n",
       "      });\n",
       "    } finally {\n",
       "      delete root._bokeh_onload_callbacks\n",
       "    }\n",
       "    console.debug(\"Bokeh: all callbacks have finished\");\n",
       "  }\n",
       "\n",
       "  function load_libs(css_urls, js_urls, callback) {\n",
       "    if (css_urls == null) css_urls = [];\n",
       "    if (js_urls == null) js_urls = [];\n",
       "\n",
       "    root._bokeh_onload_callbacks.push(callback);\n",
       "    if (root._bokeh_is_loading > 0) {\n",
       "      console.debug(\"Bokeh: BokehJS is being loaded, scheduling callback at\", now());\n",
       "      return null;\n",
       "    }\n",
       "    if (js_urls == null || js_urls.length === 0) {\n",
       "      run_callbacks();\n",
       "      return null;\n",
       "    }\n",
       "    console.debug(\"Bokeh: BokehJS not loaded, scheduling load and callback at\", now());\n",
       "    root._bokeh_is_loading = css_urls.length + js_urls.length;\n",
       "\n",
       "    function on_load() {\n",
       "      root._bokeh_is_loading--;\n",
       "      if (root._bokeh_is_loading === 0) {\n",
       "        console.debug(\"Bokeh: all BokehJS libraries/stylesheets loaded\");\n",
       "        run_callbacks()\n",
       "      }\n",
       "    }\n",
       "\n",
       "    function on_error(url) {\n",
       "      console.error(\"failed to load \" + url);\n",
       "    }\n",
       "\n",
       "    for (let i = 0; i < css_urls.length; i++) {\n",
       "      const url = css_urls[i];\n",
       "      const element = document.createElement(\"link\");\n",
       "      element.onload = on_load;\n",
       "      element.onerror = on_error.bind(null, url);\n",
       "      element.rel = \"stylesheet\";\n",
       "      element.type = \"text/css\";\n",
       "      element.href = url;\n",
       "      console.debug(\"Bokeh: injecting link tag for BokehJS stylesheet: \", url);\n",
       "      document.body.appendChild(element);\n",
       "    }\n",
       "\n",
       "    const hashes = {\"https://cdn.bokeh.org/bokeh/release/bokeh-2.3.3.min.js\": \"dM3QQsP+wXdHg42wTqW85BjZQdLNNIXqlPw/BgKoExPmTG7ZLML4EGqLMfqHT6ON\", \"https://cdn.bokeh.org/bokeh/release/bokeh-tables-2.3.3.min.js\": \"8x57I4YuIfu8XyZfFo0XVr2WAT8EK4rh/uDe3wF7YuW2FNUSNEpJbsPaB1nJ2fz2\", \"https://cdn.bokeh.org/bokeh/release/bokeh-widgets-2.3.3.min.js\": \"3QTqdz9LyAm2i0sG5XTePsHec3UHWwVsrOL68SYRoAXsafvfAyqtQ+h440+qIBhS\"};\n",
       "\n",
       "    for (let i = 0; i < js_urls.length; i++) {\n",
       "      const url = js_urls[i];\n",
       "      const element = document.createElement('script');\n",
       "      element.onload = on_load;\n",
       "      element.onerror = on_error.bind(null, url);\n",
       "      element.async = false;\n",
       "      element.src = url;\n",
       "      if (url in hashes) {\n",
       "        element.crossOrigin = \"anonymous\";\n",
       "        element.integrity = \"sha384-\" + hashes[url];\n",
       "      }\n",
       "      console.debug(\"Bokeh: injecting script tag for BokehJS library: \", url);\n",
       "      document.head.appendChild(element);\n",
       "    }\n",
       "  };\n",
       "\n",
       "  function inject_raw_css(css) {\n",
       "    const element = document.createElement(\"style\");\n",
       "    element.appendChild(document.createTextNode(css));\n",
       "    document.body.appendChild(element);\n",
       "  }\n",
       "\n",
       "  \n",
       "  var js_urls = [\"https://cdn.bokeh.org/bokeh/release/bokeh-2.3.3.min.js\", \"https://cdn.bokeh.org/bokeh/release/bokeh-widgets-2.3.3.min.js\", \"https://cdn.bokeh.org/bokeh/release/bokeh-tables-2.3.3.min.js\"];\n",
       "  var css_urls = [];\n",
       "  \n",
       "\n",
       "  var inline_js = [\n",
       "    function(Bokeh) {\n",
       "      Bokeh.set_log_level(\"info\");\n",
       "    },\n",
       "    function(Bokeh) {\n",
       "    \n",
       "    \n",
       "    }\n",
       "  ];\n",
       "\n",
       "  function run_inline_js() {\n",
       "    \n",
       "    if (root.Bokeh !== undefined || force === true) {\n",
       "      \n",
       "    for (var i = 0; i < inline_js.length; i++) {\n",
       "      inline_js[i].call(root, root.Bokeh);\n",
       "    }\n",
       "    if (force === true) {\n",
       "        display_loaded();\n",
       "      }} else if (Date.now() < root._bokeh_timeout) {\n",
       "      setTimeout(run_inline_js, 100);\n",
       "    } else if (!root._bokeh_failed_load) {\n",
       "      console.log(\"Bokeh: BokehJS failed to load within specified timeout.\");\n",
       "      root._bokeh_failed_load = true;\n",
       "    } else if (force !== true) {\n",
       "      var cell = $(document.getElementById(\"1002\")).parents('.cell').data().cell;\n",
       "      cell.output_area.append_execute_result(NB_LOAD_WARNING)\n",
       "    }\n",
       "\n",
       "  }\n",
       "\n",
       "  if (root._bokeh_is_loading === 0) {\n",
       "    console.debug(\"Bokeh: BokehJS loaded, going straight to plotting\");\n",
       "    run_inline_js();\n",
       "  } else {\n",
       "    load_libs(css_urls, js_urls, function() {\n",
       "      console.debug(\"Bokeh: BokehJS plotting callback run at\", now());\n",
       "      run_inline_js();\n",
       "    });\n",
       "  }\n",
       "}(window));"
      ],
      "application/vnd.bokehjs_load.v0+json": "\n(function(root) {\n  function now() {\n    return new Date();\n  }\n\n  var force = true;\n\n  if (typeof root._bokeh_onload_callbacks === \"undefined\" || force === true) {\n    root._bokeh_onload_callbacks = [];\n    root._bokeh_is_loading = undefined;\n  }\n\n  \n\n  \n  if (typeof (root._bokeh_timeout) === \"undefined\" || force === true) {\n    root._bokeh_timeout = Date.now() + 5000;\n    root._bokeh_failed_load = false;\n  }\n\n  var NB_LOAD_WARNING = {'data': {'text/html':\n     \"<div style='background-color: #fdd'>\\n\"+\n     \"<p>\\n\"+\n     \"BokehJS does not appear to have successfully loaded. If loading BokehJS from CDN, this \\n\"+\n     \"may be due to a slow or bad network connection. Possible fixes:\\n\"+\n     \"</p>\\n\"+\n     \"<ul>\\n\"+\n     \"<li>re-rerun `output_notebook()` to attempt to load from CDN again, or</li>\\n\"+\n     \"<li>use INLINE resources instead, as so:</li>\\n\"+\n     \"</ul>\\n\"+\n     \"<code>\\n\"+\n     \"from bokeh.resources import INLINE\\n\"+\n     \"output_notebook(resources=INLINE)\\n\"+\n     \"</code>\\n\"+\n     \"</div>\"}};\n\n  function display_loaded() {\n    var el = document.getElementById(\"1002\");\n    if (el != null) {\n      el.textContent = \"BokehJS is loading...\";\n    }\n    if (root.Bokeh !== undefined) {\n      if (el != null) {\n        el.textContent = \"BokehJS \" + root.Bokeh.version + \" successfully loaded.\";\n      }\n    } else if (Date.now() < root._bokeh_timeout) {\n      setTimeout(display_loaded, 100)\n    }\n  }\n\n\n  function run_callbacks() {\n    try {\n      root._bokeh_onload_callbacks.forEach(function(callback) {\n        if (callback != null)\n          callback();\n      });\n    } finally {\n      delete root._bokeh_onload_callbacks\n    }\n    console.debug(\"Bokeh: all callbacks have finished\");\n  }\n\n  function load_libs(css_urls, js_urls, callback) {\n    if (css_urls == null) css_urls = [];\n    if (js_urls == null) js_urls = [];\n\n    root._bokeh_onload_callbacks.push(callback);\n    if (root._bokeh_is_loading > 0) {\n      console.debug(\"Bokeh: BokehJS is being loaded, scheduling callback at\", now());\n      return null;\n    }\n    if (js_urls == null || js_urls.length === 0) {\n      run_callbacks();\n      return null;\n    }\n    console.debug(\"Bokeh: BokehJS not loaded, scheduling load and callback at\", now());\n    root._bokeh_is_loading = css_urls.length + js_urls.length;\n\n    function on_load() {\n      root._bokeh_is_loading--;\n      if (root._bokeh_is_loading === 0) {\n        console.debug(\"Bokeh: all BokehJS libraries/stylesheets loaded\");\n        run_callbacks()\n      }\n    }\n\n    function on_error(url) {\n      console.error(\"failed to load \" + url);\n    }\n\n    for (let i = 0; i < css_urls.length; i++) {\n      const url = css_urls[i];\n      const element = document.createElement(\"link\");\n      element.onload = on_load;\n      element.onerror = on_error.bind(null, url);\n      element.rel = \"stylesheet\";\n      element.type = \"text/css\";\n      element.href = url;\n      console.debug(\"Bokeh: injecting link tag for BokehJS stylesheet: \", url);\n      document.body.appendChild(element);\n    }\n\n    const hashes = {\"https://cdn.bokeh.org/bokeh/release/bokeh-2.3.3.min.js\": \"dM3QQsP+wXdHg42wTqW85BjZQdLNNIXqlPw/BgKoExPmTG7ZLML4EGqLMfqHT6ON\", \"https://cdn.bokeh.org/bokeh/release/bokeh-tables-2.3.3.min.js\": \"8x57I4YuIfu8XyZfFo0XVr2WAT8EK4rh/uDe3wF7YuW2FNUSNEpJbsPaB1nJ2fz2\", \"https://cdn.bokeh.org/bokeh/release/bokeh-widgets-2.3.3.min.js\": \"3QTqdz9LyAm2i0sG5XTePsHec3UHWwVsrOL68SYRoAXsafvfAyqtQ+h440+qIBhS\"};\n\n    for (let i = 0; i < js_urls.length; i++) {\n      const url = js_urls[i];\n      const element = document.createElement('script');\n      element.onload = on_load;\n      element.onerror = on_error.bind(null, url);\n      element.async = false;\n      element.src = url;\n      if (url in hashes) {\n        element.crossOrigin = \"anonymous\";\n        element.integrity = \"sha384-\" + hashes[url];\n      }\n      console.debug(\"Bokeh: injecting script tag for BokehJS library: \", url);\n      document.head.appendChild(element);\n    }\n  };\n\n  function inject_raw_css(css) {\n    const element = document.createElement(\"style\");\n    element.appendChild(document.createTextNode(css));\n    document.body.appendChild(element);\n  }\n\n  \n  var js_urls = [\"https://cdn.bokeh.org/bokeh/release/bokeh-2.3.3.min.js\", \"https://cdn.bokeh.org/bokeh/release/bokeh-widgets-2.3.3.min.js\", \"https://cdn.bokeh.org/bokeh/release/bokeh-tables-2.3.3.min.js\"];\n  var css_urls = [];\n  \n\n  var inline_js = [\n    function(Bokeh) {\n      Bokeh.set_log_level(\"info\");\n    },\n    function(Bokeh) {\n    \n    \n    }\n  ];\n\n  function run_inline_js() {\n    \n    if (root.Bokeh !== undefined || force === true) {\n      \n    for (var i = 0; i < inline_js.length; i++) {\n      inline_js[i].call(root, root.Bokeh);\n    }\n    if (force === true) {\n        display_loaded();\n      }} else if (Date.now() < root._bokeh_timeout) {\n      setTimeout(run_inline_js, 100);\n    } else if (!root._bokeh_failed_load) {\n      console.log(\"Bokeh: BokehJS failed to load within specified timeout.\");\n      root._bokeh_failed_load = true;\n    } else if (force !== true) {\n      var cell = $(document.getElementById(\"1002\")).parents('.cell').data().cell;\n      cell.output_area.append_execute_result(NB_LOAD_WARNING)\n    }\n\n  }\n\n  if (root._bokeh_is_loading === 0) {\n    console.debug(\"Bokeh: BokehJS loaded, going straight to plotting\");\n    run_inline_js();\n  } else {\n    load_libs(css_urls, js_urls, function() {\n      console.debug(\"Bokeh: BokehJS plotting callback run at\", now());\n      run_inline_js();\n    });\n  }\n}(window));"
     },
     "metadata": {},
     "output_type": "display_data"
    }
   ],
   "source": [
    "from itertools import compress\n",
    "\n",
    "import numpy as np\n",
    "import pandas as pd\n",
    "\n",
    "from sklearn.metrics import mean_squared_error\n",
    "from sklearn.metrics import mean_absolute_error\n",
    "from sklearn.model_selection import cross_val_score\n",
    "from sklearn.metrics import r2_score\n",
    "from sklearn.model_selection import train_test_split\n",
    "\n",
    "from sklearn import linear_model\n",
    "from sklearn.linear_model import Ridge\n",
    "from sklearn.linear_model import ElasticNet\n",
    "from sklearn.ensemble import RandomForestRegressor\n",
    "from sklearn.model_selection import RepeatedKFold\n",
    "from sklearn.model_selection import GridSearchCV\n",
    "\n",
    "from rdkit.Chem import PandasTools\n",
    "from rdkit.Chem import AllChem\n",
    "from rdkit.Chem import Crippen\n",
    "from rdkit.Chem import rdchem\n",
    "\n",
    "from bokeh.io import show, output_notebook\n",
    "from bokeh.plotting import figure\n",
    "output_notebook()"
   ]
  },
  {
   "cell_type": "code",
   "execution_count": 2,
   "metadata": {},
   "outputs": [],
   "source": [
    "pd.set_option('display.max_columns', None)"
   ]
  },
  {
   "cell_type": "code",
   "execution_count": 3,
   "metadata": {},
   "outputs": [],
   "source": [
    "import warnings\n",
    "warnings.filterwarnings('ignore')"
   ]
  },
  {
   "cell_type": "markdown",
   "metadata": {},
   "source": [
    "## Some auxiliary functions"
   ]
  },
  {
   "cell_type": "code",
   "execution_count": 4,
   "metadata": {},
   "outputs": [],
   "source": [
    "def evaluate_performance(predicted, true):\n",
    "    '''Calculate basic performance characteristics: MAE, RMSE and R^2'''\n",
    "    model_mse = mean_squared_error(true, predicted)\n",
    "    model_rmse = np.sqrt(model_mse)\n",
    "    print ('----> RMSE= \\t\\t{}'.format(model_rmse))\n",
    "    \n",
    "    model_mae = mean_absolute_error(true, predicted)\n",
    "    print ('----> MAE= \\t\\t{}'.format(model_mae))\n",
    "    \n",
    "        \n",
    "    model_r_square = r2_score(true, predicted)\n",
    "    print ('----> R^2= \\t\\t{}'.format(model_r_square))"
   ]
  },
  {
   "cell_type": "code",
   "execution_count": 5,
   "metadata": {},
   "outputs": [],
   "source": [
    "def descriptor_calculator(mol_array, module):\n",
    "    '''Output list with calculated descriptor '''\n",
    "    result=[module(x) for x in mol_array]\n",
    "    return result\n",
    "\n",
    "def add_desc(df, mol_array, d_dictionary):\n",
    "    '''Add descriptor columns to pandas df'''\n",
    "    for key, value in d_dictionary.items():\n",
    "        print('calculating: \\t', key)\n",
    "        df[key] = descriptor_calculator(mol_array, value)\n",
    "    return df\n",
    "\n",
    "\n",
    "'''\n",
    "Dictionary with all descroptors\n",
    "Comment out to exclude\n",
    "http://www.rdkit.org/Python_Docs/rdkit.Chem.rdMolDescriptors-module.html#CalcExactMolWt\n",
    "'''\n",
    "descriptor_dict={#'Crippen_SlogP': Crippen._pyMolLogP, # standard one\n",
    "                 'Crippen_MolLogP': Crippen.MolLogP, # \n",
    "                 'Crippen_MolMR': Crippen.MolMR,\n",
    "                 'Chi0n': AllChem.CalcChi0n,\n",
    "                 'Chi0v': AllChem.CalcChi0v,\n",
    "                 'Chi1n': AllChem.CalcChi1n,\n",
    "                 'Chi1v': AllChem.CalcChi1v,\n",
    "                 'Chi2n': AllChem.CalcChi2n,\n",
    "                 'Chi2v': AllChem.CalcChi2v,\n",
    "                 'Chi3n': AllChem.CalcChi3n,\n",
    "                 'Chi3v': AllChem.CalcChi3v,\n",
    "                 'Chi4n': AllChem.CalcChi4n,\n",
    "                 'Chi4v': AllChem.CalcChi4v,\n",
    "                 #'ChiNn': AllChem.CalcChiNn,\n",
    "                 #'ChiNv': AllChem.CalcChiNv,\n",
    "                 #'Eccentricity': AllChem.CalcEccentricity,\n",
    "                 'ExactMolWt': AllChem.CalcExactMolWt,\n",
    "                 'FractionCSP3': AllChem.CalcFractionCSP3,\n",
    "                 'allKierAlpha': AllChem.CalcHallKierAlpha,\n",
    "                 #'InertialShapeFactor': AllChem.CalcInertialShapeFactor,\n",
    "                 'Kappa1': AllChem.CalcKappa1,\n",
    "                 'Kappa2': AllChem.CalcKappa2,\n",
    "                 'Kappa3': AllChem.CalcKappa3,\n",
    "                 'LabuteASA': AllChem.CalcLabuteASA,\n",
    "                 'MolFormula': AllChem.CalcMolFormula,\n",
    "                 #'NPR1': AllChem.CalcNPR1,\n",
    "                 #'NPR2': AllChem.CalcNPR2,\n",
    "                 'N_AliphCarbC': AllChem.CalcNumAliphaticCarbocycles,\n",
    "                 'N_AliphHetC': AllChem.CalcNumAliphaticHeterocycles,\n",
    "                 'N_AliphRing': AllChem.CalcNumAliphaticRings,\n",
    "                 'N_AmideBonds': AllChem.CalcNumAmideBonds,\n",
    "                 'N_AromCarbC': AllChem.CalcNumAromaticCarbocycles,\n",
    "                 'N_AromHetC': AllChem.CalcNumAromaticHeterocycles,\n",
    "                 'N_AromRing': AllChem.CalcNumAromaticRings,\n",
    "                 'N_AtomStereoCenters': AllChem.CalcNumAtomStereoCenters,\n",
    "                 'N_BridgeheadAtoms': AllChem.CalcNumBridgeheadAtoms,\n",
    "                 'N_HBA': AllChem.CalcNumHBA,\n",
    "                 'N_HBD': AllChem.CalcNumHBD,\n",
    "                 'N_Heteroatoms': AllChem.CalcNumHeteroatoms,\n",
    "                 'N_Heterocycles': AllChem.CalcNumHeterocycles,\n",
    "                 'N_LipinskiHBA': AllChem.CalcNumLipinskiHBA,\n",
    "                 'N_LipinskiHBD': AllChem.CalcNumLipinskiHBD,\n",
    "                 'N_Rings': AllChem.CalcNumRings,\n",
    "                 'N_RotatableBonds': AllChem.CalcNumRotatableBonds,\n",
    "                 'N_CarbC': AllChem.CalcNumSaturatedCarbocycles,\n",
    "                 'N_SatHetC': AllChem.CalcNumSaturatedHeterocycles,\n",
    "                 'N_SatRing': AllChem.CalcNumSaturatedRings,\n",
    "                 'N_SpiroAt': AllChem.CalcNumSpiroAtoms,\n",
    "                 'N_UnsAtSterCent': AllChem.CalcNumUnspecifiedAtomStereoCenters}\n",
    "                 #'PBF': AllChem.CalcPBF,\n",
    "                 #'PMI1': AllChem.CalcPMI1,\n",
    "                 #'PMI2': AllChem.CalcPMI2,\n",
    "                 #'PMI3': AllChem.CalcPMI3,\n",
    "                 #'RadiusOfGyration': AllChem.CalcRadiusOfGyration,\n",
    "                 #'SpherInd': AllChem.CalcSpherocityIndex,\n",
    "                 #'AtPairAtCode': AllChem.GetAtomPairAtomCode}\n",
    "                 #'TPSA': AllChem.CalcTPSA}"
   ]
  },
  {
   "cell_type": "code",
   "execution_count": 6,
   "metadata": {},
   "outputs": [
    {
     "data": {
      "text/plain": [
       "42"
      ]
     },
     "execution_count": 6,
     "metadata": {},
     "output_type": "execute_result"
    }
   ],
   "source": [
    "# total descriptors to be calculated:\n",
    "len(descriptor_dict)"
   ]
  },
  {
   "cell_type": "markdown",
   "metadata": {},
   "source": [
    "## Reading the .xslx from Lombardo et al."
   ]
  },
  {
   "cell_type": "code",
   "execution_count": 7,
   "metadata": {},
   "outputs": [],
   "source": [
    "pk_data = pd.read_excel('Supplemental_82966_revised_corrected.xlsx', sheet_name='Data_sheet', skiprows= lambda x: x in [0, 6], header= 6) "
   ]
  },
  {
   "cell_type": "code",
   "execution_count": 8,
   "metadata": {},
   "outputs": [
    {
     "data": {
      "text/html": [
       "<div>\n",
       "<style scoped>\n",
       "    .dataframe tbody tr th:only-of-type {\n",
       "        vertical-align: middle;\n",
       "    }\n",
       "\n",
       "    .dataframe tbody tr th {\n",
       "        vertical-align: top;\n",
       "    }\n",
       "\n",
       "    .dataframe thead th {\n",
       "        text-align: right;\n",
       "    }\n",
       "</style>\n",
       "<table border=\"1\" class=\"dataframe\">\n",
       "  <thead>\n",
       "    <tr style=\"text-align: right;\">\n",
       "      <th></th>\n",
       "      <th>Name</th>\n",
       "      <th>CAS #</th>\n",
       "      <th>SMILES</th>\n",
       "      <th>human VDss (L/kg)</th>\n",
       "      <th>human CL (mL/min/kg)</th>\n",
       "      <th>fraction unbound \\nin plasma (fu)</th>\n",
       "      <th>MRT (h)</th>\n",
       "      <th>terminal  t1/2 (h)</th>\n",
       "      <th>Reference</th>\n",
       "      <th>Comments</th>\n",
       "      <th>Notes</th>\n",
       "      <th>Year of first disclosure</th>\n",
       "      <th>MW</th>\n",
       "      <th>HBA</th>\n",
       "      <th>HBD</th>\n",
       "      <th>TPSA_NO</th>\n",
       "      <th>RotBondCount</th>\n",
       "      <th>moka_ionState7.4</th>\n",
       "      <th>MoKa.LogP</th>\n",
       "      <th>MoKa.LogD7.4</th>\n",
       "    </tr>\n",
       "  </thead>\n",
       "  <tbody>\n",
       "    <tr>\n",
       "      <th>0</th>\n",
       "      <td>α-hANP</td>\n",
       "      <td>85637-73-6</td>\n",
       "      <td>N1[C@H](C(=O)N[C@H](C(=O)N[C@H](C(=O)N[C@H](C(...</td>\n",
       "      <td>0.20</td>\n",
       "      <td>25.40</td>\n",
       "      <td>NaN</td>\n",
       "      <td>0.13</td>\n",
       "      <td>0.22</td>\n",
       "      <td>Nakao, K.; Sugawara, A.; Morii, N.; Sakamoto, ...</td>\n",
       "      <td>α-Human Atrial Natriuretic Peptide. MRT calcul...</td>\n",
       "      <td>NaN</td>\n",
       "      <td>1982</td>\n",
       "      <td>3080.44</td>\n",
       "      <td>84</td>\n",
       "      <td>53</td>\n",
       "      <td>1403.4</td>\n",
       "      <td>75</td>\n",
       "      <td>cationic</td>\n",
       "      <td>-9.00</td>\n",
       "      <td>-9.00</td>\n",
       "    </tr>\n",
       "    <tr>\n",
       "      <th>1</th>\n",
       "      <td>(-)dOTC</td>\n",
       "      <td>160707-69-7</td>\n",
       "      <td>c1cn(c(=O)nc1N)[C@H]2CO[C@H](S2)CO</td>\n",
       "      <td>1.18</td>\n",
       "      <td>3.00</td>\n",
       "      <td>NaN</td>\n",
       "      <td>6.50</td>\n",
       "      <td>19.20</td>\n",
       "      <td>PATRICK F. SMITH, ALAN FORREST, CHARLES H. BAL...</td>\n",
       "      <td>Dosed as 100 mg of racemate. (-) form called a...</td>\n",
       "      <td>NaN</td>\n",
       "      <td>1994</td>\n",
       "      <td>229.26</td>\n",
       "      <td>6</td>\n",
       "      <td>2</td>\n",
       "      <td>90.4</td>\n",
       "      <td>2</td>\n",
       "      <td>neutral</td>\n",
       "      <td>-1.90</td>\n",
       "      <td>-1.90</td>\n",
       "    </tr>\n",
       "    <tr>\n",
       "      <th>2</th>\n",
       "      <td>(+)dOTC</td>\n",
       "      <td>160707-68-6</td>\n",
       "      <td>c1cn(c(=O)nc1N)[C@@H]2CO[C@@H](S2)CO</td>\n",
       "      <td>0.84</td>\n",
       "      <td>3.90</td>\n",
       "      <td>NaN</td>\n",
       "      <td>3.60</td>\n",
       "      <td>8.92</td>\n",
       "      <td>PATRICK F. SMITH, ALAN FORREST, CHARLES H. BAL...</td>\n",
       "      <td>Dosed as 100 mg of racemate. (-) form called a...</td>\n",
       "      <td>NaN</td>\n",
       "      <td>1994</td>\n",
       "      <td>229.26</td>\n",
       "      <td>6</td>\n",
       "      <td>2</td>\n",
       "      <td>90.4</td>\n",
       "      <td>2</td>\n",
       "      <td>neutral</td>\n",
       "      <td>-1.90</td>\n",
       "      <td>-1.90</td>\n",
       "    </tr>\n",
       "    <tr>\n",
       "      <th>3</th>\n",
       "      <td>1,3-DCQA</td>\n",
       "      <td>19870-46-3</td>\n",
       "      <td>O[C@@H]1C[C@@](C[C@@H](OC(=O)\\C=C\\c2ccc(O)c(O)...</td>\n",
       "      <td>0.79</td>\n",
       "      <td>8.70</td>\n",
       "      <td>NaN</td>\n",
       "      <td>1.50</td>\n",
       "      <td>1.37</td>\n",
       "      <td>Wen-Zheng Ju,Yang Zhao,Fang Liu,Ting Wua,Jun Z...</td>\n",
       "      <td>1,3-dicaffeoylquinic acid. Data digitized from...</td>\n",
       "      <td>NaN</td>\n",
       "      <td>1964</td>\n",
       "      <td>516.45</td>\n",
       "      <td>12</td>\n",
       "      <td>7</td>\n",
       "      <td>211.3</td>\n",
       "      <td>9</td>\n",
       "      <td>anionic</td>\n",
       "      <td>2.10</td>\n",
       "      <td>-1.60</td>\n",
       "    </tr>\n",
       "    <tr>\n",
       "      <th>4</th>\n",
       "      <td>16-acetyl gitoxin</td>\n",
       "      <td>7242-07-1</td>\n",
       "      <td>C1([C@@H]2[C@@]3([C@@]([C@@H]4[C@@H]([C@@]5(CC...</td>\n",
       "      <td>0.78</td>\n",
       "      <td>0.18</td>\n",
       "      <td>0.07</td>\n",
       "      <td>72.30</td>\n",
       "      <td>51.60</td>\n",
       "      <td>Hausten, K.-O. On the Pharmacokinetics of 16-A...</td>\n",
       "      <td>16-O-acetylgitoxin. N=6, 65.3 kg average weigh...</td>\n",
       "      <td>NaN</td>\n",
       "      <td>1960</td>\n",
       "      <td>822.98</td>\n",
       "      <td>15</td>\n",
       "      <td>5</td>\n",
       "      <td>209.1</td>\n",
       "      <td>9</td>\n",
       "      <td>neutral</td>\n",
       "      <td>0.93</td>\n",
       "      <td>0.93</td>\n",
       "    </tr>\n",
       "  </tbody>\n",
       "</table>\n",
       "</div>"
      ],
      "text/plain": [
       "                Name        CAS #  \\\n",
       "0             α-hANP   85637-73-6   \n",
       "1            (-)dOTC  160707-69-7   \n",
       "2            (+)dOTC  160707-68-6   \n",
       "3           1,3-DCQA   19870-46-3   \n",
       "4  16-acetyl gitoxin    7242-07-1   \n",
       "\n",
       "                                              SMILES  human VDss (L/kg)  \\\n",
       "0  N1[C@H](C(=O)N[C@H](C(=O)N[C@H](C(=O)N[C@H](C(...               0.20   \n",
       "1                 c1cn(c(=O)nc1N)[C@H]2CO[C@H](S2)CO               1.18   \n",
       "2               c1cn(c(=O)nc1N)[C@@H]2CO[C@@H](S2)CO               0.84   \n",
       "3  O[C@@H]1C[C@@](C[C@@H](OC(=O)\\C=C\\c2ccc(O)c(O)...               0.79   \n",
       "4  C1([C@@H]2[C@@]3([C@@]([C@@H]4[C@@H]([C@@]5(CC...               0.78   \n",
       "\n",
       "   human CL (mL/min/kg)  fraction unbound \\nin plasma (fu)  MRT (h)  \\\n",
       "0                 25.40                                NaN     0.13   \n",
       "1                  3.00                                NaN     6.50   \n",
       "2                  3.90                                NaN     3.60   \n",
       "3                  8.70                                NaN     1.50   \n",
       "4                  0.18                               0.07    72.30   \n",
       "\n",
       "   terminal  t1/2 (h)                                          Reference  \\\n",
       "0                0.22  Nakao, K.; Sugawara, A.; Morii, N.; Sakamoto, ...   \n",
       "1               19.20  PATRICK F. SMITH, ALAN FORREST, CHARLES H. BAL...   \n",
       "2                8.92  PATRICK F. SMITH, ALAN FORREST, CHARLES H. BAL...   \n",
       "3                1.37  Wen-Zheng Ju,Yang Zhao,Fang Liu,Ting Wua,Jun Z...   \n",
       "4               51.60  Hausten, K.-O. On the Pharmacokinetics of 16-A...   \n",
       "\n",
       "                                           Comments  Notes  \\\n",
       "0  α-Human Atrial Natriuretic Peptide. MRT calcul...   NaN   \n",
       "1  Dosed as 100 mg of racemate. (-) form called a...   NaN   \n",
       "2  Dosed as 100 mg of racemate. (-) form called a...   NaN   \n",
       "3  1,3-dicaffeoylquinic acid. Data digitized from...   NaN   \n",
       "4  16-O-acetylgitoxin. N=6, 65.3 kg average weigh...   NaN   \n",
       "\n",
       "   Year of first disclosure       MW  HBA  HBD  TPSA_NO  RotBondCount  \\\n",
       "0                      1982  3080.44   84   53   1403.4            75   \n",
       "1                      1994   229.26    6    2     90.4             2   \n",
       "2                      1994   229.26    6    2     90.4             2   \n",
       "3                      1964   516.45   12    7    211.3             9   \n",
       "4                      1960   822.98   15    5    209.1             9   \n",
       "\n",
       "  moka_ionState7.4  MoKa.LogP  MoKa.LogD7.4  \n",
       "0         cationic      -9.00         -9.00  \n",
       "1          neutral      -1.90         -1.90  \n",
       "2          neutral      -1.90         -1.90  \n",
       "3          anionic       2.10         -1.60  \n",
       "4          neutral       0.93          0.93  "
      ]
     },
     "execution_count": 8,
     "metadata": {},
     "output_type": "execute_result"
    }
   ],
   "source": [
    "pk_data.head()"
   ]
  },
  {
   "cell_type": "markdown",
   "metadata": {},
   "source": [
    "## Checking original source data"
   ]
  },
  {
   "cell_type": "code",
   "execution_count": 9,
   "metadata": {},
   "outputs": [
    {
     "data": {
      "text/plain": [
       "(1352, 20)"
      ]
     },
     "execution_count": 9,
     "metadata": {},
     "output_type": "execute_result"
    }
   ],
   "source": [
    "pk_data.shape"
   ]
  },
  {
   "cell_type": "code",
   "execution_count": 10,
   "metadata": {},
   "outputs": [
    {
     "data": {
      "text/plain": [
       "count    1315.000000\n",
       "mean        3.829262\n",
       "std        20.787797\n",
       "min         0.030000\n",
       "25%         0.300000\n",
       "50%         0.910000\n",
       "75%         2.600000\n",
       "max       700.000000\n",
       "Name: human VDss (L/kg), dtype: float64"
      ]
     },
     "execution_count": 10,
     "metadata": {},
     "output_type": "execute_result"
    }
   ],
   "source": [
    "pk_data['human VDss (L/kg)'].describe()"
   ]
  },
  {
   "cell_type": "markdown",
   "metadata": {},
   "source": [
    "## Generating RDKit's mols"
   ]
  },
  {
   "cell_type": "code",
   "execution_count": 11,
   "metadata": {
    "tags": []
   },
   "outputs": [
    {
     "name": "stderr",
     "output_type": "stream",
     "text": [
      "[18:28:14] Explicit valence for atom # 3 O, 3, is greater than permitted\n",
      "RDKit ERROR: [18:28:14] Explicit valence for atom # 3 O, 3, is greater than permitted\n",
      "[18:28:14] Explicit valence for atom # 0 N, 4, is greater than permitted\n",
      "RDKit ERROR: [18:28:14] Explicit valence for atom # 0 N, 4, is greater than permitted\n",
      "RDKit ERROR: [18:28:14] Explicit valence for atom # 6 N, 4, is greater than permitted\n",
      "RDKit ERROR: [18:28:14] Explicit valence for atom # 3 O, 3, is greater than permitted\n",
      "[18:28:14] Explicit valence for atom # 6 N, 4, is greater than permitted\n",
      "RDKit ERROR: [18:28:14] SMILES Parse Error: syntax error while parsing: C(C([N+]([Gd+++]([N+]1(C2)C3)([N+](C2)(C2)C4)([O-]5)([O-]6)([O-]C3=O)([O-]C4=O)[O-]C2=O)(CC6=O)CC5=O)C1)C(=CC=C1OCC)C=C1\n",
      "RDKit ERROR: [18:28:14] SMILES Parse Error: Failed parsing SMILES 'C(C([N+]([Gd+++]([N+]1(C2)C3)([N+](C2)(C2)C4)([O-]5)([O-]6)([O-]C3=O)([O-]C4=O)[O-]C2=O)(CC6=O)CC5=O)C1)C(=CC=C1OCC)C=C1' for input: 'C(C([N+]([Gd+++]([N+]1(C2)C3)([N+](C2)(C2)C4)([O-]5)([O-]6)([O-]C3=O)([O-]C4=O)[O-]C2=O)(CC6=O)CC5=O)C1)C(=CC=C1OCC)C=C1'\n",
      "[18:28:14] Explicit valence for atom # 3 O, 3, is greater than permitted\n",
      "[18:28:14] SMILES Parse Error: syntax error while parsing: C(C([N+]([Gd+++]([N+]1(C2)C3)([N+](C2)(C2)C4)([O-]5)([O-]6)([O-]C3=O)([O-]C4=O)[O-]C2=O)(CC6=O)CC5=O)C1)C(=CC=C1OCC)C=C1\n",
      "[18:28:14] SMILES Parse Error: Failed parsing SMILES 'C(C([N+]([Gd+++]([N+]1(C2)C3)([N+](C2)(C2)C4)([O-]5)([O-]6)([O-]C3=O)([O-]C4=O)[O-]C2=O)(CC6=O)CC5=O)C1)C(=CC=C1OCC)C=C1' for input: 'C(C([N+]([Gd+++]([N+]1(C2)C3)([N+](C2)(C2)C4)([O-]5)([O-]6)([O-]C3=O)([O-]C4=O)[O-]C2=O)(CC6=O)CC5=O)C1)C(=CC=C1OCC)C=C1'\n",
      "RDKit ERROR: [18:28:14] Explicit valence for atom # 3 N, 4, is greater than permitted\n",
      "RDKit ERROR: [18:28:14] Explicit valence for atom # 0 N, 4, is greater than permitted\n",
      "[18:28:14] Explicit valence for atom # 3 N, 4, is greater than permitted\n",
      "[18:28:14] Explicit valence for atom # 0 N, 4, is greater than permitted\n",
      "RDKit ERROR: [18:28:14] Explicit valence for atom # 6 O, 3, is greater than permitted\n",
      "[18:28:14] Explicit valence for atom # 6 O, 3, is greater than permitted\n",
      "RDKit ERROR: [18:28:14] SMILES Parse Error: syntax error while parsing: C(C([N+]([Gd+++]([N+]1(C2)C3)([N+](C2)(C2)C4)([O-]5)([O-]6)([O-]C3=O)([O-]C4=O)[O-]C2=O)(CC6=O)CC5=O)C1)C(=CC=C1OCC)C=C1\n",
      "[18:28:14] SMILES Parse Error: syntax error while parsing: C(C([N+]([Gd+++]([N+]1(C2)C3)([N+](C2)(C2)C4)([O-]5)([O-]6)([O-]C3=O)([O-]C4=O)[O-]C2=O)(CC6=O)CC5=O)C1)C(=CC=C1OCC)C=C1\n",
      "RDKit ERROR: [18:28:14] SMILES Parse Error: Failed parsing SMILES 'C(C([N+]([Gd+++]([N+]1(C2)C3)([N+](C2)(C2)C4)([O-]5)([O-]6)([O-]C3=O)([O-]C4=O)[O-]C2=O)(CC6=O)CC5=O)C1)C(=CC=C1OCC)C=C1' for input: 'C(C([N+]([Gd+++]([N+]1(C2)C3)([N+](C2)(C2)C4)([O-]5)([O-]6)([O-]C3=O)([O-]C4=O)[O-]C2=O)(CC6=O)CC5=O)C1)C(=CC=C1OCC)C=C1'\n",
      "RDKit ERROR: [18:28:14] Explicit valence for atom # 9 N, 4, is greater than permitted\n",
      "[18:28:14] SMILES Parse Error: Failed parsing SMILES 'C(C([N+]([Gd+++]([N+]1(C2)C3)([N+](C2)(C2)C4)([O-]5)([O-]6)([O-]C3=O)([O-]C4=O)[O-]C2=O)(CC6=O)CC5=O)C1)C(=CC=C1OCC)C=C1' for input: 'C(C([N+]([Gd+++]([N+]1(C2)C3)([N+](C2)(C2)C4)([O-]5)([O-]6)([O-]C3=O)([O-]C4=O)[O-]C2=O)(CC6=O)CC5=O)C1)C(=CC=C1OCC)C=C1'\n",
      "[18:28:14] Explicit valence for atom # 9 N, 4, is greater than permitted\n",
      "[18:28:14] Explicit valence for atom # 9 O, 3, is greater than permitted\n",
      "RDKit ERROR: [18:28:14] Explicit valence for atom # 9 O, 3, is greater than permitted\n",
      "[18:28:14] Explicit valence for atom # 21 Cl, 2, is greater than permitted\n",
      "RDKit ERROR: [18:28:14] Explicit valence for atom # 21 Cl, 2, is greater than permitted\n"
     ]
    }
   ],
   "source": [
    "PandasTools.AddMoleculeColumnToFrame(pk_data, smilesCol='SMILES', molCol='Mol')"
   ]
  },
  {
   "cell_type": "markdown",
   "metadata": {},
   "source": [
    "## --> throws some errors\n",
    "\n",
    "## => filtering the compounds which RDKit can't process"
   ]
  },
  {
   "cell_type": "code",
   "execution_count": 12,
   "metadata": {},
   "outputs": [],
   "source": [
    "pk_data= pk_data[pk_data['Mol'].apply(lambda x: isinstance(x, rdchem.Mol))]"
   ]
  },
  {
   "cell_type": "markdown",
   "metadata": {},
   "source": [
    "## Checking the size (1352 records initially)"
   ]
  },
  {
   "cell_type": "code",
   "execution_count": 13,
   "metadata": {},
   "outputs": [
    {
     "data": {
      "text/plain": [
       "(1340, 21)"
      ]
     },
     "execution_count": 13,
     "metadata": {},
     "output_type": "execute_result"
    }
   ],
   "source": [
    "pk_data.shape"
   ]
  },
  {
   "cell_type": "markdown",
   "metadata": {},
   "source": [
    "## Calculating descriptors"
   ]
  },
  {
   "cell_type": "code",
   "execution_count": 14,
   "metadata": {},
   "outputs": [
    {
     "name": "stdout",
     "output_type": "stream",
     "text": [
      "calculating: \t Crippen_MolLogP\n",
      "calculating: \t Crippen_MolMR\n",
      "calculating: \t Chi0n\n",
      "calculating: \t Chi0v\n",
      "calculating: \t Chi1n\n",
      "calculating: \t Chi1v\n",
      "calculating: \t Chi2n\n",
      "calculating: \t Chi2v\n",
      "calculating: \t Chi3n\n",
      "calculating: \t Chi3v\n",
      "calculating: \t Chi4n\n",
      "calculating: \t Chi4v\n",
      "calculating: \t ExactMolWt\n",
      "calculating: \t FractionCSP3\n",
      "calculating: \t allKierAlpha\n",
      "calculating: \t Kappa1\n",
      "calculating: \t Kappa2\n",
      "calculating: \t Kappa3\n",
      "calculating: \t LabuteASA\n",
      "calculating: \t MolFormula\n",
      "calculating: \t N_AliphCarbC\n",
      "calculating: \t N_AliphHetC\n",
      "calculating: \t N_AliphRing\n",
      "calculating: \t N_AmideBonds\n",
      "calculating: \t N_AromCarbC\n",
      "calculating: \t N_AromHetC\n",
      "calculating: \t N_AromRing\n",
      "calculating: \t N_AtomStereoCenters\n",
      "calculating: \t N_BridgeheadAtoms\n",
      "calculating: \t N_HBA\n",
      "calculating: \t N_HBD\n",
      "calculating: \t N_Heteroatoms\n",
      "calculating: \t N_Heterocycles\n",
      "calculating: \t N_LipinskiHBA\n",
      "calculating: \t N_LipinskiHBD\n",
      "calculating: \t N_Rings\n",
      "calculating: \t N_RotatableBonds\n",
      "calculating: \t N_CarbC\n",
      "calculating: \t N_SatHetC\n",
      "calculating: \t N_SatRing\n",
      "calculating: \t N_SpiroAt\n",
      "calculating: \t N_UnsAtSterCent\n"
     ]
    }
   ],
   "source": [
    "pk_data = add_desc(pk_data.copy(), pk_data['Mol'], descriptor_dict)"
   ]
  },
  {
   "cell_type": "markdown",
   "metadata": {},
   "source": [
    "## Filtering out records without 'MoKa.LogP' in the .xsls"
   ]
  },
  {
   "cell_type": "code",
   "execution_count": 15,
   "metadata": {},
   "outputs": [],
   "source": [
    "pk_data = pk_data[pk_data['MoKa.LogP'].notna()]"
   ]
  },
  {
   "cell_type": "code",
   "execution_count": 16,
   "metadata": {},
   "outputs": [
    {
     "data": {
      "text/plain": [
       "(1337, 63)"
      ]
     },
     "execution_count": 16,
     "metadata": {},
     "output_type": "execute_result"
    }
   ],
   "source": [
    "pk_data.shape"
   ]
  },
  {
   "cell_type": "markdown",
   "metadata": {},
   "source": [
    "## Lipinksi filter"
   ]
  },
  {
   "cell_type": "code",
   "execution_count": 17,
   "metadata": {},
   "outputs": [],
   "source": [
    "pk_data= pk_data[(pk_data['HBD'] <= 5) & (pk_data['HBA'] <= 10) & (pk_data['ExactMolWt'] <= 500) & (pk_data['MoKa.LogP'] <= 5)]"
   ]
  },
  {
   "cell_type": "code",
   "execution_count": 18,
   "metadata": {},
   "outputs": [
    {
     "data": {
      "text/plain": [
       "(921, 63)"
      ]
     },
     "execution_count": 18,
     "metadata": {},
     "output_type": "execute_result"
    }
   ],
   "source": [
    "pk_data.shape"
   ]
  },
  {
   "cell_type": "markdown",
   "metadata": {},
   "source": [
    "## Selecting relevant RDKit descriptors for evaluation\n",
    "## ..and the target variables"
   ]
  },
  {
   "cell_type": "code",
   "execution_count": 19,
   "metadata": {},
   "outputs": [],
   "source": [
    "features = ['MW', 'HBA', 'HBD', 'TPSA_NO', 'RotBondCount',\n",
    "       'MoKa.LogP', 'MoKa.LogD7.4', 'Crippen_MolMR',\n",
    "       'Chi0n', 'Chi0v', 'Chi1n', 'Chi1v', 'Chi2n', 'Chi2v', 'Chi3n', 'Chi3v',\n",
    "       'Chi4n', 'Chi4v', 'ExactMolWt', 'FractionCSP3', 'allKierAlpha',\n",
    "       'Kappa1', 'Kappa2', 'Kappa3', 'LabuteASA', 'N_AliphCarbC',\n",
    "       'N_AliphHetC', 'N_AliphRing', 'N_AmideBonds', 'N_AromCarbC',\n",
    "       'N_AromHetC', 'N_AromRing', 'N_AtomStereoCenters', 'N_BridgeheadAtoms',\n",
    "       'N_HBA', 'N_HBD', 'N_Heteroatoms', 'N_Heterocycles', 'N_LipinskiHBA',\n",
    "       'N_LipinskiHBD', 'N_Rings', 'N_RotatableBonds', 'N_CarbC', 'N_SatHetC',\n",
    "       'N_SatRing', 'N_SpiroAt', 'N_UnsAtSterCent']\n",
    "\n",
    "target_vss = 'human VDss (L/kg)'\n",
    "target_cl = 'human CL (mL/min/kg)'\n",
    "\n",
    "target_log_vss = 'log_vss'\n",
    "target_log_cl = 'log_cl'"
   ]
  },
  {
   "cell_type": "code",
   "execution_count": 20,
   "metadata": {},
   "outputs": [
    {
     "data": {
      "text/plain": [
       "47"
      ]
     },
     "execution_count": 20,
     "metadata": {},
     "output_type": "execute_result"
    }
   ],
   "source": [
    "len(features) # 47 descriptors for evaluation"
   ]
  },
  {
   "cell_type": "markdown",
   "metadata": {},
   "source": [
    "## Selecting data for separate modelling of Vss and PK\n",
    "\n",
    "## ..and looking at the size of the corresponding data subsets"
   ]
  },
  {
   "cell_type": "code",
   "execution_count": 21,
   "metadata": {},
   "outputs": [
    {
     "name": "stdout",
     "output_type": "stream",
     "text": [
      "(921, 63)\n",
      "(896, 63)\n",
      "(919, 63)\n"
     ]
    }
   ],
   "source": [
    "pk_vss = pk_data[pk_data['human VDss (L/kg)'].notna()]\n",
    "pk_cl = pk_data[pk_data['human CL (mL/min/kg)'].notna()]\n",
    "\n",
    "print(pk_data.shape)\n",
    "print(pk_vss.shape)\n",
    "print(pk_cl.shape)"
   ]
  },
  {
   "cell_type": "markdown",
   "metadata": {},
   "source": [
    "## Visual inspection"
   ]
  },
  {
   "cell_type": "code",
   "execution_count": 22,
   "metadata": {},
   "outputs": [
    {
     "data": {
      "text/html": [
       "\n",
       "\n",
       "\n",
       "\n",
       "\n",
       "\n",
       "  <div class=\"bk-root\" id=\"1475c751-a6cd-43d3-b9ca-34d0b2cec27a\" data-root-id=\"1003\"></div>\n"
      ]
     },
     "metadata": {},
     "output_type": "display_data"
    },
    {
     "data": {
      "application/javascript": [
       "(function(root) {\n",
       "  function embed_document(root) {\n",
       "    \n",
       "  var docs_json = {\"af565fd8-9e1b-456d-a2f1-c52d9c021ba0\":{\"defs\":[],\"roots\":{\"references\":[{\"attributes\":{\"below\":[{\"id\":\"1012\"}],\"center\":[{\"id\":\"1015\"},{\"id\":\"1019\"}],\"left\":[{\"id\":\"1016\"}],\"renderers\":[{\"id\":\"1037\"}],\"title\":{\"id\":\"1039\"},\"toolbar\":{\"id\":\"1027\"},\"x_range\":{\"id\":\"1004\"},\"x_scale\":{\"id\":\"1008\"},\"y_range\":{\"id\":\"1006\"},\"y_scale\":{\"id\":\"1010\"}},\"id\":\"1003\",\"subtype\":\"Figure\",\"type\":\"Plot\"},{\"attributes\":{\"source\":{\"id\":\"1034\"}},\"id\":\"1038\",\"type\":\"CDSView\"},{\"attributes\":{},\"id\":\"1039\",\"type\":\"Title\"},{\"attributes\":{\"bottom\":{\"value\":0},\"fill_color\":{\"value\":\"#1f77b4\"},\"left\":{\"field\":\"left\"},\"line_color\":{\"value\":\"white\"},\"right\":{\"field\":\"right\"},\"top\":{\"field\":\"top\"}},\"id\":\"1035\",\"type\":\"Quad\"},{\"attributes\":{},\"id\":\"1006\",\"type\":\"DataRange1d\"},{\"attributes\":{},\"id\":\"1004\",\"type\":\"DataRange1d\"},{\"attributes\":{\"data\":{\"left\":{\"__ndarray__\":\"rK3YX3ZPbj+30JUIVGc1QFVRvMraZkVAJ92WyAUNUECjkc8rnmZVQB9GCI82wFpAT30geecMYECN17yqs7liQMsxWdx/ZmVACYz1DUwTaEBH5pE/GMBqQIZALnHkbG1AYk1lUdgMcECBejNqPmNxQKCnAYOkuXJAv9TPmwoQdEDeAZ60cGZ1QP0ubM3WvHZAHFw65jwTeEA7iQj/oml5QFq21hcJwHpAeuOkMG8WfECZEHNJ1Wx9QLg9QWI7w35AbLWHvdAMgED7y+7JA7iAQIviVdY2Y4FAGvm84mkOgkCqDyTvnLmCQDkmi/vPZINAyTzyBwMQhEBYU1kUNruEQOhpwCBpZoVAeIAnLZwRhkAHl445z7yGQJet9UUCaIdAJsRcUjUTiEC22sNeaL6IQEXxKmubaYlA1QeSd84UikBkHvmDAcCKQPQ0YJA0a4tAhEvHnGcWjEATYi6pmsGMQKN4lbXNbI1AMo/8wQAYjkDCpWPOM8OOQFG8ytpmbo9AcemY88wMkEC4dMx5ZmKQQA==\",\"dtype\":\"float64\",\"order\":\"little\",\"shape\":[50]},\"right\":{\"__ndarray__\":\"t9CVCFRnNUBVUbzK2mZFQCfdlsgFDVBAo5HPK55mVUAfRgiPNsBaQE99IHnnDGBAjde8qrO5YkDLMVncf2ZlQAmM9Q1ME2hAR+aRPxjAakCGQC5x5GxtQGJNZVHYDHBAgXozaj5jcUCgpwGDpLlyQL/Uz5sKEHRA3gGetHBmdUD9LmzN1rx2QBxcOuY8E3hAO4kI/6JpeUBattYXCcB6QHrjpDBvFnxAmRBzSdVsfUC4PUFiO8N+QGy1h73QDIBA+8vuyQO4gECL4lXWNmOBQBr5vOJpDoJAqg8k75y5gkA5Jov7z2SDQMk88gcDEIRAWFNZFDa7hEDoacAgaWaFQHiAJy2cEYZAB5eOOc+8hkCXrfVFAmiHQCbEXFI1E4hAttrDXmi+iEBF8Sprm2mJQNUHknfOFIpAZB75gwHAikD0NGCQNGuLQIRLx5xnFoxAE2IuqZrBjECjeJW1zWyNQDKP/MEAGI5AwqVjzjPDjkBRvMraZm6PQHHpmPPMDJBAuHTMeWZikEAAAAAAALiQQA==\",\"dtype\":\"float64\",\"order\":\"little\",\"shape\":[50]},\"top\":[816,72,9,10,0,2,3,1,1,1,0,0,0,1,0,0,0,0,0,0,0,0,0,0,0,0,0,1,0,0,0,0,0,1,0,0,0,0,0,0,0,0,0,0,0,0,0,0,0,1]},\"selected\":{\"id\":\"1048\"},\"selection_policy\":{\"id\":\"1047\"}},\"id\":\"1034\",\"type\":\"ColumnDataSource\"},{\"attributes\":{},\"id\":\"1047\",\"type\":\"UnionRenderers\"},{\"attributes\":{},\"id\":\"1008\",\"type\":\"LinearScale\"},{\"attributes\":{\"axis_label\":\"human CL (mL/min/kg)\",\"axis_label_text_font_size\":\"20pt\",\"formatter\":{\"id\":\"1044\"},\"major_label_policy\":{\"id\":\"1046\"},\"ticker\":{\"id\":\"1013\"}},\"id\":\"1012\",\"type\":\"LinearAxis\"},{\"attributes\":{},\"id\":\"1048\",\"type\":\"Selection\"},{\"attributes\":{\"bottom_units\":\"screen\",\"fill_alpha\":0.5,\"fill_color\":\"lightgrey\",\"left_units\":\"screen\",\"level\":\"overlay\",\"line_alpha\":1.0,\"line_color\":\"black\",\"line_dash\":[4,4],\"line_width\":2,\"right_units\":\"screen\",\"syncable\":false,\"top_units\":\"screen\"},\"id\":\"1026\",\"type\":\"BoxAnnotation\"},{\"attributes\":{\"overlay\":{\"id\":\"1026\"}},\"id\":\"1022\",\"type\":\"BoxZoomTool\"},{\"attributes\":{},\"id\":\"1041\",\"type\":\"BasicTickFormatter\"},{\"attributes\":{},\"id\":\"1010\",\"type\":\"LinearScale\"},{\"attributes\":{},\"id\":\"1013\",\"type\":\"BasicTicker\"},{\"attributes\":{\"axis\":{\"id\":\"1012\"},\"ticker\":null},\"id\":\"1015\",\"type\":\"Grid\"},{\"attributes\":{\"active_multi\":null,\"tools\":[{\"id\":\"1020\"},{\"id\":\"1021\"},{\"id\":\"1022\"},{\"id\":\"1023\"},{\"id\":\"1024\"},{\"id\":\"1025\"}]},\"id\":\"1027\",\"type\":\"Toolbar\"},{\"attributes\":{},\"id\":\"1043\",\"type\":\"AllLabels\"},{\"attributes\":{},\"id\":\"1025\",\"type\":\"HelpTool\"},{\"attributes\":{\"axis\":{\"id\":\"1016\"},\"dimension\":1,\"ticker\":null},\"id\":\"1019\",\"type\":\"Grid\"},{\"attributes\":{\"axis_label\":\"Value counts\",\"axis_label_text_font_size\":\"20pt\",\"formatter\":{\"id\":\"1041\"},\"major_label_policy\":{\"id\":\"1043\"},\"ticker\":{\"id\":\"1017\"}},\"id\":\"1016\",\"type\":\"LinearAxis\"},{\"attributes\":{},\"id\":\"1017\",\"type\":\"BasicTicker\"},{\"attributes\":{\"bottom\":{\"value\":0},\"fill_alpha\":{\"value\":0.1},\"fill_color\":{\"value\":\"#1f77b4\"},\"left\":{\"field\":\"left\"},\"line_alpha\":{\"value\":0.1},\"line_color\":{\"value\":\"white\"},\"right\":{\"field\":\"right\"},\"top\":{\"field\":\"top\"}},\"id\":\"1036\",\"type\":\"Quad\"},{\"attributes\":{},\"id\":\"1044\",\"type\":\"BasicTickFormatter\"},{\"attributes\":{},\"id\":\"1046\",\"type\":\"AllLabels\"},{\"attributes\":{},\"id\":\"1021\",\"type\":\"WheelZoomTool\"},{\"attributes\":{},\"id\":\"1023\",\"type\":\"SaveTool\"},{\"attributes\":{},\"id\":\"1020\",\"type\":\"PanTool\"},{\"attributes\":{\"data_source\":{\"id\":\"1034\"},\"glyph\":{\"id\":\"1035\"},\"hover_glyph\":null,\"muted_glyph\":null,\"nonselection_glyph\":{\"id\":\"1036\"},\"view\":{\"id\":\"1038\"}},\"id\":\"1037\",\"type\":\"GlyphRenderer\"},{\"attributes\":{},\"id\":\"1024\",\"type\":\"ResetTool\"}],\"root_ids\":[\"1003\"]},\"title\":\"Bokeh Application\",\"version\":\"2.3.3\"}};\n",
       "  var render_items = [{\"docid\":\"af565fd8-9e1b-456d-a2f1-c52d9c021ba0\",\"root_ids\":[\"1003\"],\"roots\":{\"1003\":\"1475c751-a6cd-43d3-b9ca-34d0b2cec27a\"}}];\n",
       "  root.Bokeh.embed.embed_items_notebook(docs_json, render_items);\n",
       "\n",
       "  }\n",
       "  if (root.Bokeh !== undefined) {\n",
       "    embed_document(root);\n",
       "  } else {\n",
       "    var attempts = 0;\n",
       "    var timer = setInterval(function(root) {\n",
       "      if (root.Bokeh !== undefined) {\n",
       "        clearInterval(timer);\n",
       "        embed_document(root);\n",
       "      } else {\n",
       "        attempts++;\n",
       "        if (attempts > 100) {\n",
       "          clearInterval(timer);\n",
       "          console.log(\"Bokeh: ERROR: Unable to run BokehJS code because BokehJS library is missing\");\n",
       "        }\n",
       "      }\n",
       "    }, 10, root)\n",
       "  }\n",
       "})(window);"
      ],
      "application/vnd.bokehjs_exec.v0+json": ""
     },
     "metadata": {
      "application/vnd.bokehjs_exec.v0+json": {
       "id": "1003"
      }
     },
     "output_type": "display_data"
    }
   ],
   "source": [
    "# Clearance raw\n",
    "\n",
    "hist, edges = pd.np.histogram(pk_cl['human CL (mL/min/kg)'], density=False, bins=50)\n",
    "\n",
    "p = figure()\n",
    "p.quad(top=hist, bottom=0, left=edges[:-1], right=edges[1:], line_color=\"white\")\n",
    "\n",
    "p.xaxis.axis_label = 'human CL (mL/min/kg)'\n",
    "p.yaxis.axis_label = 'Value counts'\n",
    "\n",
    "p.xaxis.axis_label_text_font_size = '20pt'\n",
    "p.yaxis.axis_label_text_font_size = '20pt'\n",
    "\n",
    "show(p)"
   ]
  },
  {
   "cell_type": "code",
   "execution_count": 23,
   "metadata": {},
   "outputs": [
    {
     "data": {
      "text/html": [
       "\n",
       "\n",
       "\n",
       "\n",
       "\n",
       "\n",
       "  <div class=\"bk-root\" id=\"8b3d527c-b97d-4e5e-938b-f784f993348e\" data-root-id=\"1105\"></div>\n"
      ]
     },
     "metadata": {},
     "output_type": "display_data"
    },
    {
     "data": {
      "application/javascript": [
       "(function(root) {\n",
       "  function embed_document(root) {\n",
       "    \n",
       "  var docs_json = {\"35c84974-cf4b-4192-a3dd-7089927e922b\":{\"defs\":[],\"roots\":{\"references\":[{\"attributes\":{\"below\":[{\"id\":\"1114\"}],\"center\":[{\"id\":\"1117\"},{\"id\":\"1121\"}],\"left\":[{\"id\":\"1118\"}],\"renderers\":[{\"id\":\"1139\"}],\"title\":{\"id\":\"1152\"},\"toolbar\":{\"id\":\"1129\"},\"x_range\":{\"id\":\"1106\"},\"x_scale\":{\"id\":\"1110\"},\"y_range\":{\"id\":\"1108\"},\"y_scale\":{\"id\":\"1112\"}},\"id\":\"1105\",\"subtype\":\"Figure\",\"type\":\"Plot\"},{\"attributes\":{},\"id\":\"1157\",\"type\":\"BasicTickFormatter\"},{\"attributes\":{},\"id\":\"1159\",\"type\":\"AllLabels\"},{\"attributes\":{},\"id\":\"1112\",\"type\":\"LinearScale\"},{\"attributes\":{\"overlay\":{\"id\":\"1128\"}},\"id\":\"1124\",\"type\":\"BoxZoomTool\"},{\"attributes\":{\"bottom_units\":\"screen\",\"fill_alpha\":0.5,\"fill_color\":\"lightgrey\",\"left_units\":\"screen\",\"level\":\"overlay\",\"line_alpha\":1.0,\"line_color\":\"black\",\"line_dash\":[4,4],\"line_width\":2,\"right_units\":\"screen\",\"syncable\":false,\"top_units\":\"screen\"},\"id\":\"1128\",\"type\":\"BoxAnnotation\"},{\"attributes\":{\"axis_label\":\"Value counts\",\"axis_label_text_font_size\":\"20pt\",\"formatter\":{\"id\":\"1154\"},\"major_label_policy\":{\"id\":\"1156\"},\"ticker\":{\"id\":\"1119\"}},\"id\":\"1118\",\"type\":\"LinearAxis\"},{\"attributes\":{\"axis\":{\"id\":\"1114\"},\"ticker\":null},\"id\":\"1117\",\"type\":\"Grid\"},{\"attributes\":{},\"id\":\"1108\",\"type\":\"DataRange1d\"},{\"attributes\":{},\"id\":\"1115\",\"type\":\"BasicTicker\"},{\"attributes\":{},\"id\":\"1127\",\"type\":\"HelpTool\"},{\"attributes\":{},\"id\":\"1110\",\"type\":\"LinearScale\"},{\"attributes\":{},\"id\":\"1154\",\"type\":\"BasicTickFormatter\"},{\"attributes\":{\"axis\":{\"id\":\"1118\"},\"dimension\":1,\"ticker\":null},\"id\":\"1121\",\"type\":\"Grid\"},{\"attributes\":{},\"id\":\"1126\",\"type\":\"ResetTool\"},{\"attributes\":{\"bottom\":{\"value\":0},\"fill_color\":{\"value\":\"#1f77b4\"},\"left\":{\"field\":\"left\"},\"line_color\":{\"value\":\"white\"},\"right\":{\"field\":\"right\"},\"top\":{\"field\":\"top\"}},\"id\":\"1137\",\"type\":\"Quad\"},{\"attributes\":{\"bottom\":{\"value\":0},\"fill_alpha\":{\"value\":0.1},\"fill_color\":{\"value\":\"#1f77b4\"},\"left\":{\"field\":\"left\"},\"line_alpha\":{\"value\":0.1},\"line_color\":{\"value\":\"white\"},\"right\":{\"field\":\"right\"},\"top\":{\"field\":\"top\"}},\"id\":\"1138\",\"type\":\"Quad\"},{\"attributes\":{},\"id\":\"1122\",\"type\":\"PanTool\"},{\"attributes\":{},\"id\":\"1160\",\"type\":\"UnionRenderers\"},{\"attributes\":{\"source\":{\"id\":\"1136\"}},\"id\":\"1140\",\"type\":\"CDSView\"},{\"attributes\":{\"data_source\":{\"id\":\"1136\"},\"glyph\":{\"id\":\"1137\"},\"hover_glyph\":null,\"muted_glyph\":null,\"nonselection_glyph\":{\"id\":\"1138\"},\"view\":{\"id\":\"1140\"}},\"id\":\"1139\",\"type\":\"GlyphRenderer\"},{\"attributes\":{},\"id\":\"1161\",\"type\":\"Selection\"},{\"attributes\":{},\"id\":\"1119\",\"type\":\"BasicTicker\"},{\"attributes\":{},\"id\":\"1123\",\"type\":\"WheelZoomTool\"},{\"attributes\":{\"data\":{\"left\":{\"__ndarray__\":\"exSuR+F6pD+jAbwFEhQsQJkqGJXUCTxAMCqpE9AERUAUP8bctQRMQPyp8dJNglFAbjSAt0ACVUDgvg6cM4JYQFJJnYAmAlxAxNMrZRmCX0AaL90kBoFhQFN0JJf/QGNAjLlrCfkAZUDF/rJ78sBmQP5D+u3rgGhAN4lBYOVAakBwzojS3gBsQKkT0ETYwG1A4lgXt9GAb0AOT6+UZaBwQKrx0k1igHFAR5T2Bl9gckDjNhrAW0BzQIDZPXlYIHRAHHxhMlUAdUC5HoXrUeB1QFXBqKROwHZA8mPMXUugd0COBvAWSIB4QCupE9BEYHlAx0s3iUFAekBk7lpCPiB7QACRfvs6AHxAnDOitDfgfEA51sVtNMB9QNV46SYxoH5AchsN4C2Af0AHX5hMFTCAQFUwKqkToIBAowG8BRIQgUDx0k1iEICBQECk374O8IFAjnVxGw1ggkDcRgN4C9CCQCoYldQJQINAeekmMQiwg0DHuriNBiCEQBWMSuoEkIRAY13cRgMAhUCxLm6jAXCFQA==\",\"dtype\":\"float64\",\"order\":\"little\",\"shape\":[50]},\"right\":{\"__ndarray__\":\"owG8BRIULECZKhiV1Ak8QDAqqRPQBEVAFD/G3LUETED8qfHSTYJRQG40gLdAAlVA4L4OnDOCWEBSSZ2AJgJcQMTTK2UZgl9AGi/dJAaBYUBTdCSX/0BjQIy5awn5AGVAxf6ye/LAZkD+Q/rt64BoQDeJQWDlQGpAcM6I0t4AbECpE9BE2MBtQOJYF7fRgG9ADk+vlGWgcECq8dJNYoBxQEeU9gZfYHJA4zYawFtAc0CA2T15WCB0QBx8YTJVAHVAuR6F61HgdUBVwaikTsB2QPJjzF1LoHdAjgbwFkiAeEArqRPQRGB5QMdLN4lBQHpAZO5aQj4ge0AAkX77OgB8QJwzorQ34HxAOdbFbTTAfUDVeOkmMaB+QHIbDeAtgH9AB1+YTBUwgEBVMCqpE6CAQKMBvAUSEIFA8dJNYhCAgUBApN++DvCBQI51cRsNYIJA3EYDeAvQgkAqGJXUCUCDQHnpJjEIsINAx7q4jQYghEAVjErqBJCEQGNd3EYDAIVAsS5uowFwhUAAAAAAAOCFQA==\",\"dtype\":\"float64\",\"order\":\"little\",\"shape\":[50]},\"top\":[861,28,3,2,1,0,0,0,0,0,0,0,0,0,0,0,0,0,0,0,0,0,0,0,0,0,0,0,0,0,0,0,0,0,0,0,0,0,0,0,0,0,0,0,0,0,0,0,0,1]},\"selected\":{\"id\":\"1161\"},\"selection_policy\":{\"id\":\"1160\"}},\"id\":\"1136\",\"type\":\"ColumnDataSource\"},{\"attributes\":{\"active_multi\":null,\"tools\":[{\"id\":\"1122\"},{\"id\":\"1123\"},{\"id\":\"1124\"},{\"id\":\"1125\"},{\"id\":\"1126\"},{\"id\":\"1127\"}]},\"id\":\"1129\",\"type\":\"Toolbar\"},{\"attributes\":{},\"id\":\"1106\",\"type\":\"DataRange1d\"},{\"attributes\":{},\"id\":\"1156\",\"type\":\"AllLabels\"},{\"attributes\":{},\"id\":\"1125\",\"type\":\"SaveTool\"},{\"attributes\":{},\"id\":\"1152\",\"type\":\"Title\"},{\"attributes\":{\"axis_label\":\"human VDss (L/kg)\",\"axis_label_text_font_size\":\"20pt\",\"formatter\":{\"id\":\"1157\"},\"major_label_policy\":{\"id\":\"1159\"},\"ticker\":{\"id\":\"1115\"}},\"id\":\"1114\",\"type\":\"LinearAxis\"}],\"root_ids\":[\"1105\"]},\"title\":\"Bokeh Application\",\"version\":\"2.3.3\"}};\n",
       "  var render_items = [{\"docid\":\"35c84974-cf4b-4192-a3dd-7089927e922b\",\"root_ids\":[\"1105\"],\"roots\":{\"1105\":\"8b3d527c-b97d-4e5e-938b-f784f993348e\"}}];\n",
       "  root.Bokeh.embed.embed_items_notebook(docs_json, render_items);\n",
       "\n",
       "  }\n",
       "  if (root.Bokeh !== undefined) {\n",
       "    embed_document(root);\n",
       "  } else {\n",
       "    var attempts = 0;\n",
       "    var timer = setInterval(function(root) {\n",
       "      if (root.Bokeh !== undefined) {\n",
       "        clearInterval(timer);\n",
       "        embed_document(root);\n",
       "      } else {\n",
       "        attempts++;\n",
       "        if (attempts > 100) {\n",
       "          clearInterval(timer);\n",
       "          console.log(\"Bokeh: ERROR: Unable to run BokehJS code because BokehJS library is missing\");\n",
       "        }\n",
       "      }\n",
       "    }, 10, root)\n",
       "  }\n",
       "})(window);"
      ],
      "application/vnd.bokehjs_exec.v0+json": ""
     },
     "metadata": {
      "application/vnd.bokehjs_exec.v0+json": {
       "id": "1105"
      }
     },
     "output_type": "display_data"
    }
   ],
   "source": [
    "# same for Vss\n",
    "\n",
    "hist, edges = pd.np.histogram(pk_vss['human VDss (L/kg)'], density=False, bins=50)\n",
    "\n",
    "p = figure()\n",
    "p.quad(top=hist, bottom=0, left=edges[:-1], right=edges[1:], line_color=\"white\")\n",
    "\n",
    "p.xaxis.axis_label = 'human VDss (L/kg)'\n",
    "p.yaxis.axis_label = 'Value counts'\n",
    "\n",
    "p.xaxis.axis_label_text_font_size = '20pt'\n",
    "p.yaxis.axis_label_text_font_size = '20pt'\n",
    "\n",
    "show(p)"
   ]
  },
  {
   "cell_type": "markdown",
   "metadata": {},
   "source": [
    "## Does not look good\n",
    "## -> let's use log values"
   ]
  },
  {
   "cell_type": "code",
   "execution_count": 24,
   "metadata": {},
   "outputs": [],
   "source": [
    "pk_vss['log_vss'] = np.log(pk_vss['human VDss (L/kg)'])\n",
    "pk_cl['log_cl'] = np.log(pk_cl['human CL (mL/min/kg)'])"
   ]
  },
  {
   "cell_type": "code",
   "execution_count": 25,
   "metadata": {},
   "outputs": [
    {
     "data": {
      "text/html": [
       "\n",
       "\n",
       "\n",
       "\n",
       "\n",
       "\n",
       "  <div class=\"bk-root\" id=\"a6f85a25-e2c8-449b-bfa4-0a53b25fcf38\" data-root-id=\"1218\"></div>\n"
      ]
     },
     "metadata": {},
     "output_type": "display_data"
    },
    {
     "data": {
      "application/javascript": [
       "(function(root) {\n",
       "  function embed_document(root) {\n",
       "    \n",
       "  var docs_json = {\"7564a3c1-03b6-4176-b861-c4b945d632aa\":{\"defs\":[],\"roots\":{\"references\":[{\"attributes\":{\"below\":[{\"id\":\"1227\"}],\"center\":[{\"id\":\"1230\"},{\"id\":\"1234\"}],\"left\":[{\"id\":\"1231\"}],\"renderers\":[{\"id\":\"1252\"}],\"title\":{\"id\":\"1276\"},\"toolbar\":{\"id\":\"1242\"},\"x_range\":{\"id\":\"1219\"},\"x_scale\":{\"id\":\"1223\"},\"y_range\":{\"id\":\"1221\"},\"y_scale\":{\"id\":\"1225\"}},\"id\":\"1218\",\"subtype\":\"Figure\",\"type\":\"Plot\"},{\"attributes\":{},\"id\":\"1235\",\"type\":\"PanTool\"},{\"attributes\":{},\"id\":\"1240\",\"type\":\"HelpTool\"},{\"attributes\":{\"source\":{\"id\":\"1249\"}},\"id\":\"1253\",\"type\":\"CDSView\"},{\"attributes\":{},\"id\":\"1219\",\"type\":\"DataRange1d\"},{\"attributes\":{},\"id\":\"1238\",\"type\":\"SaveTool\"},{\"attributes\":{},\"id\":\"1239\",\"type\":\"ResetTool\"},{\"attributes\":{},\"id\":\"1276\",\"type\":\"Title\"},{\"attributes\":{},\"id\":\"1278\",\"type\":\"BasicTickFormatter\"},{\"attributes\":{},\"id\":\"1281\",\"type\":\"BasicTickFormatter\"},{\"attributes\":{},\"id\":\"1221\",\"type\":\"DataRange1d\"},{\"attributes\":{\"axis_label\":\"log(human CL (mL/min/kg))\",\"axis_label_text_font_size\":\"20pt\",\"formatter\":{\"id\":\"1281\"},\"major_label_policy\":{\"id\":\"1283\"},\"ticker\":{\"id\":\"1228\"}},\"id\":\"1227\",\"type\":\"LinearAxis\"},{\"attributes\":{},\"id\":\"1280\",\"type\":\"AllLabels\"},{\"attributes\":{},\"id\":\"1283\",\"type\":\"AllLabels\"},{\"attributes\":{},\"id\":\"1225\",\"type\":\"LinearScale\"},{\"attributes\":{\"bottom_units\":\"screen\",\"fill_alpha\":0.5,\"fill_color\":\"lightgrey\",\"left_units\":\"screen\",\"level\":\"overlay\",\"line_alpha\":1.0,\"line_color\":\"black\",\"line_dash\":[4,4],\"line_width\":2,\"right_units\":\"screen\",\"syncable\":false,\"top_units\":\"screen\"},\"id\":\"1241\",\"type\":\"BoxAnnotation\"},{\"attributes\":{\"bottom\":{\"value\":0},\"fill_alpha\":{\"value\":0.1},\"fill_color\":{\"value\":\"#1f77b4\"},\"left\":{\"field\":\"left\"},\"line_alpha\":{\"value\":0.1},\"line_color\":{\"value\":\"white\"},\"right\":{\"field\":\"right\"},\"top\":{\"field\":\"top\"}},\"id\":\"1251\",\"type\":\"Quad\"},{\"attributes\":{\"axis\":{\"id\":\"1231\"},\"dimension\":1,\"ticker\":null},\"id\":\"1234\",\"type\":\"Grid\"},{\"attributes\":{\"bottom\":{\"value\":0},\"fill_color\":{\"value\":\"#1f77b4\"},\"left\":{\"field\":\"left\"},\"line_color\":{\"value\":\"white\"},\"right\":{\"field\":\"right\"},\"top\":{\"field\":\"top\"}},\"id\":\"1250\",\"type\":\"Quad\"},{\"attributes\":{\"data\":{\"left\":{\"__ndarray__\":\"TEZNAM9lFsD5kZqkRmQVwKbd50i+YhTAUyk17TVhE8AAdYKRrV8SwK3AzzUlXhHAWgwd2pxcEMAPsNT8KLYOwGlHb0UYswzAw94JjgewCsAddqTW9qwIwHcNPx/mqQbA0qTZZ9WmBMAsPHSwxKMCwIbTDvmzoADAwNVSg0Y7/b90BIgUJTX5vygzvaUDL/W/3GHyNuIo8b8gIU+QgUXqv4h+ubI+OeK/4LdHqvdZ1L/AynG8xwWxvwClHZgnrsc/oBc6h5nv2z9orjKhDwTmPwBRyH5SEO4/zPkurkoO8z8Yy/kcbBT3P2ScxIuNGvs/sG2P+q4g/z9+H600aJMBQCSIEux4lgNAyPB3o4mZBUBwWd1ampwHQBTCQhKrnwlAvCqoybuiC0Bgkw2BzKUNQAj8cjjdqA9AVjLs9/bVEECq5p5Tf9cRQPyaUa8H2RJAUE8EC5DaE0CiA7dmGNwUQPa3acKg3RVASGwcHinfFkCcIM95seAXQO7UgdU54hhAQIk0McLjGUCUPeeMSuUaQA==\",\"dtype\":\"float64\",\"order\":\"little\",\"shape\":[50]},\"right\":{\"__ndarray__\":\"+ZGapEZkFcCm3edIvmIUwFMpNe01YRPAAHWCka1fEsCtwM81JV4RwFoMHdqcXBDAD7DU/Ci2DsBpR29FGLMMwMPeCY4HsArAHXak1vasCMB3DT8f5qkGwNKk2WfVpgTALDx0sMSjAsCG0w75s6AAwMDVUoNGO/2/dASIFCU1+b8oM72lAy/1v9xh8jbiKPG/ICFPkIFF6r+IfrmyPjniv+C3R6r3WdS/wMpxvMcFsb8ApR2YJ67HP6AXOoeZ79s/aK4yoQ8E5j8AUch+UhDuP8z5Lq5KDvM/GMv5HGwU9z9knMSLjRr7P7Btj/quIP8/fh+tNGiTAUAkiBLseJYDQMjwd6OJmQVAcFndWpqcB0AUwkISq58JQLwqqMm7ogtAYJMNgcylDUAI/HI43agPQFYy7Pf21RBAquaeU3/XEUD8mlGvB9kSQFBPBAuQ2hNAogO3ZhjcFED2t2nCoN0VQEhsHB4p3xZAnCDPebHgF0Du1IHVOeIYQECJNDHC4xlAlD3njErlGkDm8Zno0uYbQA==\",\"dtype\":\"float64\",\"order\":\"little\",\"shape\":[50]},\"top\":[1,0,1,1,0,0,1,0,1,2,5,6,2,4,2,3,3,12,10,17,13,31,28,31,50,70,55,56,60,63,69,82,64,57,38,32,14,8,8,7,0,5,2,1,1,0,0,1,1,1]},\"selected\":{\"id\":\"1285\"},\"selection_policy\":{\"id\":\"1284\"}},\"id\":\"1249\",\"type\":\"ColumnDataSource\"},{\"attributes\":{},\"id\":\"1236\",\"type\":\"WheelZoomTool\"},{\"attributes\":{\"data_source\":{\"id\":\"1249\"},\"glyph\":{\"id\":\"1250\"},\"hover_glyph\":null,\"muted_glyph\":null,\"nonselection_glyph\":{\"id\":\"1251\"},\"view\":{\"id\":\"1253\"}},\"id\":\"1252\",\"type\":\"GlyphRenderer\"},{\"attributes\":{\"axis\":{\"id\":\"1227\"},\"ticker\":null},\"id\":\"1230\",\"type\":\"Grid\"},{\"attributes\":{},\"id\":\"1284\",\"type\":\"UnionRenderers\"},{\"attributes\":{\"overlay\":{\"id\":\"1241\"}},\"id\":\"1237\",\"type\":\"BoxZoomTool\"},{\"attributes\":{\"axis_label\":\"Value counts\",\"axis_label_text_font_size\":\"20pt\",\"formatter\":{\"id\":\"1278\"},\"major_label_policy\":{\"id\":\"1280\"},\"ticker\":{\"id\":\"1232\"}},\"id\":\"1231\",\"type\":\"LinearAxis\"},{\"attributes\":{},\"id\":\"1285\",\"type\":\"Selection\"},{\"attributes\":{},\"id\":\"1223\",\"type\":\"LinearScale\"},{\"attributes\":{},\"id\":\"1228\",\"type\":\"BasicTicker\"},{\"attributes\":{},\"id\":\"1232\",\"type\":\"BasicTicker\"},{\"attributes\":{\"active_multi\":null,\"tools\":[{\"id\":\"1235\"},{\"id\":\"1236\"},{\"id\":\"1237\"},{\"id\":\"1238\"},{\"id\":\"1239\"},{\"id\":\"1240\"}]},\"id\":\"1242\",\"type\":\"Toolbar\"}],\"root_ids\":[\"1218\"]},\"title\":\"Bokeh Application\",\"version\":\"2.3.3\"}};\n",
       "  var render_items = [{\"docid\":\"7564a3c1-03b6-4176-b861-c4b945d632aa\",\"root_ids\":[\"1218\"],\"roots\":{\"1218\":\"a6f85a25-e2c8-449b-bfa4-0a53b25fcf38\"}}];\n",
       "  root.Bokeh.embed.embed_items_notebook(docs_json, render_items);\n",
       "\n",
       "  }\n",
       "  if (root.Bokeh !== undefined) {\n",
       "    embed_document(root);\n",
       "  } else {\n",
       "    var attempts = 0;\n",
       "    var timer = setInterval(function(root) {\n",
       "      if (root.Bokeh !== undefined) {\n",
       "        clearInterval(timer);\n",
       "        embed_document(root);\n",
       "      } else {\n",
       "        attempts++;\n",
       "        if (attempts > 100) {\n",
       "          clearInterval(timer);\n",
       "          console.log(\"Bokeh: ERROR: Unable to run BokehJS code because BokehJS library is missing\");\n",
       "        }\n",
       "      }\n",
       "    }, 10, root)\n",
       "  }\n",
       "})(window);"
      ],
      "application/vnd.bokehjs_exec.v0+json": ""
     },
     "metadata": {
      "application/vnd.bokehjs_exec.v0+json": {
       "id": "1218"
      }
     },
     "output_type": "display_data"
    }
   ],
   "source": [
    "# log(clearance)\n",
    "\n",
    "hist, edges = pd.np.histogram(pk_cl['log_cl'], density=False, bins=50)\n",
    "\n",
    "p = figure()\n",
    "p.quad(top=hist, bottom=0, left=edges[:-1], right=edges[1:], line_color=\"white\")\n",
    "\n",
    "p.xaxis.axis_label = 'log(human CL (mL/min/kg))'\n",
    "p.yaxis.axis_label = 'Value counts'\n",
    "\n",
    "p.xaxis.axis_label_text_font_size = '20pt'\n",
    "p.yaxis.axis_label_text_font_size = '20pt'\n",
    "\n",
    "show(p)"
   ]
  },
  {
   "cell_type": "code",
   "execution_count": 26,
   "metadata": {},
   "outputs": [
    {
     "data": {
      "text/html": [
       "\n",
       "\n",
       "\n",
       "\n",
       "\n",
       "\n",
       "  <div class=\"bk-root\" id=\"ecd0f5a3-f7f1-4b03-9e71-56c9458412be\" data-root-id=\"1342\"></div>\n"
      ]
     },
     "metadata": {},
     "output_type": "display_data"
    },
    {
     "data": {
      "application/javascript": [
       "(function(root) {\n",
       "  function embed_document(root) {\n",
       "    \n",
       "  var docs_json = {\"f71491df-accd-4912-a576-736fa34a2ada\":{\"defs\":[],\"roots\":{\"references\":[{\"attributes\":{\"below\":[{\"id\":\"1351\"}],\"center\":[{\"id\":\"1354\"},{\"id\":\"1358\"}],\"left\":[{\"id\":\"1355\"}],\"renderers\":[{\"id\":\"1376\"}],\"title\":{\"id\":\"1411\"},\"toolbar\":{\"id\":\"1366\"},\"x_range\":{\"id\":\"1343\"},\"x_scale\":{\"id\":\"1347\"},\"y_range\":{\"id\":\"1345\"},\"y_scale\":{\"id\":\"1349\"}},\"id\":\"1342\",\"subtype\":\"Figure\",\"type\":\"Plot\"},{\"attributes\":{},\"id\":\"1413\",\"type\":\"BasicTickFormatter\"},{\"attributes\":{},\"id\":\"1356\",\"type\":\"BasicTicker\"},{\"attributes\":{},\"id\":\"1415\",\"type\":\"AllLabels\"},{\"attributes\":{\"bottom\":{\"value\":0},\"fill_color\":{\"value\":\"#1f77b4\"},\"left\":{\"field\":\"left\"},\"line_color\":{\"value\":\"white\"},\"right\":{\"field\":\"right\"},\"top\":{\"field\":\"top\"}},\"id\":\"1374\",\"type\":\"Quad\"},{\"attributes\":{},\"id\":\"1343\",\"type\":\"DataRange1d\"},{\"attributes\":{\"source\":{\"id\":\"1373\"}},\"id\":\"1377\",\"type\":\"CDSView\"},{\"attributes\":{},\"id\":\"1345\",\"type\":\"DataRange1d\"},{\"attributes\":{},\"id\":\"1347\",\"type\":\"LinearScale\"},{\"attributes\":{\"axis_label\":\"log(human VDss (L/kg))\",\"axis_label_text_font_size\":\"20pt\",\"formatter\":{\"id\":\"1416\"},\"major_label_policy\":{\"id\":\"1418\"},\"ticker\":{\"id\":\"1352\"}},\"id\":\"1351\",\"type\":\"LinearAxis\"},{\"attributes\":{\"data\":{\"left\":{\"__ndarray__\":\"M43t90HACcCrH4+NFDAIwCOyMCPnnwbAnETSuLkPBcAU13NOjH8DwIxpFeRe7wHABPy2eTFfAMD5HLEeCJ79v+lB9Emtffq/2WY3dVJd97/Ki3qg9zz0v7qwvcucHPG/VKsB7oP467809YdEzrflvzB+HDYx7t6/8BEp48Vs0r/AltZAaq23v0Aa9wpDWLo/0DKxFXwX0z8In6Ro55jfP6QFzF0pDeY/xLtFB99N7D/yuF9YSkfxPwKUHC2lZ/Q/Em/ZAQCI9z8iSpbWWqj6PzIlU6u1yP0/HwAIQIh0AECnbWaqtQQCQC/bxBTjlANAt0gjfxAlBUA/toHpPbUGQMcj4FNrRQhAT5E+vpjVCUDX/pwoxmULQF9s+5Lz9QxA59lZ/SCGDkC4I9wzJwsQQHpaC+k90xBAPpE6nlSbEUACyGlTa2MSQMb+mAiCKxNAijXIvZjzE0BObPdyr7sUQBKjJijGgxVA1tlV3dxLFkCaEIWS8xMXQF5HtEcK3BdAIn7j/CCkGEDmtBKyN2wZQA==\",\"dtype\":\"float64\",\"order\":\"little\",\"shape\":[50]},\"right\":{\"__ndarray__\":\"qx+PjRQwCMAjsjAj558GwJxE0ri5DwXAFNdzTox/A8CMaRXkXu8BwAT8tnkxXwDA+RyxHgie/b/pQfRJrX36v9lmN3VSXfe/yot6oPc89L+6sL3LnBzxv1SrAe6D+Ou/NPWHRM635b8wfhw2Me7ev/ARKePFbNK/wJbWQGqtt79AGvcKQ1i6P9AysRV8F9M/CJ+kaOeY3z+kBcxdKQ3mP8S7RQffTew/8rhfWEpH8T8ClBwtpWf0PxJv2QEAiPc/IkqW1lqo+j8yJVOrtcj9Px8ACECIdABAp21mqrUEAkAv28QU45QDQLdII38QJQVAP7aB6T21BkDHI+BTa0UIQE+RPr6Y1QlA1/6cKMZlC0BfbPuS8/UMQOfZWf0ghg5AuCPcMycLEEB6WgvpPdMQQD6ROp5UmxFAAshpU2tjEkDG/pgIgisTQIo1yL2Y8xNATmz3cq+7FEASoyYoxoMVQNbZVd3cSxZAmhCFkvMTF0BeR7RHCtwXQCJ+4/wgpBhA5rQSsjdsGUCr60FnTjQaQA==\",\"dtype\":\"float64\",\"order\":\"little\",\"shape\":[50]},\"top\":[1,0,3,4,8,22,20,27,40,29,26,25,40,41,53,64,61,49,53,53,48,31,30,33,26,22,15,10,13,14,10,7,11,0,2,2,1,1,0,0,0,0,0,0,0,0,0,0,0,1]},\"selected\":{\"id\":\"1420\"},\"selection_policy\":{\"id\":\"1419\"}},\"id\":\"1373\",\"type\":\"ColumnDataSource\"},{\"attributes\":{},\"id\":\"1416\",\"type\":\"BasicTickFormatter\"},{\"attributes\":{\"bottom_units\":\"screen\",\"fill_alpha\":0.5,\"fill_color\":\"lightgrey\",\"left_units\":\"screen\",\"level\":\"overlay\",\"line_alpha\":1.0,\"line_color\":\"black\",\"line_dash\":[4,4],\"line_width\":2,\"right_units\":\"screen\",\"syncable\":false,\"top_units\":\"screen\"},\"id\":\"1365\",\"type\":\"BoxAnnotation\"},{\"attributes\":{\"axis_label\":\"Value counts\",\"axis_label_text_font_size\":\"20pt\",\"formatter\":{\"id\":\"1413\"},\"major_label_policy\":{\"id\":\"1415\"},\"ticker\":{\"id\":\"1356\"}},\"id\":\"1355\",\"type\":\"LinearAxis\"},{\"attributes\":{},\"id\":\"1418\",\"type\":\"AllLabels\"},{\"attributes\":{},\"id\":\"1364\",\"type\":\"HelpTool\"},{\"attributes\":{\"axis\":{\"id\":\"1351\"},\"ticker\":null},\"id\":\"1354\",\"type\":\"Grid\"},{\"attributes\":{},\"id\":\"1349\",\"type\":\"LinearScale\"},{\"attributes\":{\"axis\":{\"id\":\"1355\"},\"dimension\":1,\"ticker\":null},\"id\":\"1358\",\"type\":\"Grid\"},{\"attributes\":{\"bottom\":{\"value\":0},\"fill_alpha\":{\"value\":0.1},\"fill_color\":{\"value\":\"#1f77b4\"},\"left\":{\"field\":\"left\"},\"line_alpha\":{\"value\":0.1},\"line_color\":{\"value\":\"white\"},\"right\":{\"field\":\"right\"},\"top\":{\"field\":\"top\"}},\"id\":\"1375\",\"type\":\"Quad\"},{\"attributes\":{},\"id\":\"1360\",\"type\":\"WheelZoomTool\"},{\"attributes\":{\"overlay\":{\"id\":\"1365\"}},\"id\":\"1361\",\"type\":\"BoxZoomTool\"},{\"attributes\":{},\"id\":\"1359\",\"type\":\"PanTool\"},{\"attributes\":{\"active_multi\":null,\"tools\":[{\"id\":\"1359\"},{\"id\":\"1360\"},{\"id\":\"1361\"},{\"id\":\"1362\"},{\"id\":\"1363\"},{\"id\":\"1364\"}]},\"id\":\"1366\",\"type\":\"Toolbar\"},{\"attributes\":{},\"id\":\"1362\",\"type\":\"SaveTool\"},{\"attributes\":{},\"id\":\"1363\",\"type\":\"ResetTool\"},{\"attributes\":{\"data_source\":{\"id\":\"1373\"},\"glyph\":{\"id\":\"1374\"},\"hover_glyph\":null,\"muted_glyph\":null,\"nonselection_glyph\":{\"id\":\"1375\"},\"view\":{\"id\":\"1377\"}},\"id\":\"1376\",\"type\":\"GlyphRenderer\"},{\"attributes\":{},\"id\":\"1352\",\"type\":\"BasicTicker\"},{\"attributes\":{},\"id\":\"1419\",\"type\":\"UnionRenderers\"},{\"attributes\":{},\"id\":\"1411\",\"type\":\"Title\"},{\"attributes\":{},\"id\":\"1420\",\"type\":\"Selection\"}],\"root_ids\":[\"1342\"]},\"title\":\"Bokeh Application\",\"version\":\"2.3.3\"}};\n",
       "  var render_items = [{\"docid\":\"f71491df-accd-4912-a576-736fa34a2ada\",\"root_ids\":[\"1342\"],\"roots\":{\"1342\":\"ecd0f5a3-f7f1-4b03-9e71-56c9458412be\"}}];\n",
       "  root.Bokeh.embed.embed_items_notebook(docs_json, render_items);\n",
       "\n",
       "  }\n",
       "  if (root.Bokeh !== undefined) {\n",
       "    embed_document(root);\n",
       "  } else {\n",
       "    var attempts = 0;\n",
       "    var timer = setInterval(function(root) {\n",
       "      if (root.Bokeh !== undefined) {\n",
       "        clearInterval(timer);\n",
       "        embed_document(root);\n",
       "      } else {\n",
       "        attempts++;\n",
       "        if (attempts > 100) {\n",
       "          clearInterval(timer);\n",
       "          console.log(\"Bokeh: ERROR: Unable to run BokehJS code because BokehJS library is missing\");\n",
       "        }\n",
       "      }\n",
       "    }, 10, root)\n",
       "  }\n",
       "})(window);"
      ],
      "application/vnd.bokehjs_exec.v0+json": ""
     },
     "metadata": {
      "application/vnd.bokehjs_exec.v0+json": {
       "id": "1342"
      }
     },
     "output_type": "display_data"
    }
   ],
   "source": [
    "# log(Vss)\n",
    "\n",
    "hist, edges = pd.np.histogram(pk_vss['log_vss'], density=False, bins=50)\n",
    "\n",
    "p = figure()\n",
    "p.quad(top=hist, bottom=0, left=edges[:-1], right=edges[1:], line_color=\"white\")\n",
    "\n",
    "p.xaxis.axis_label = 'log(human VDss (L/kg))'\n",
    "p.yaxis.axis_label = 'Value counts'\n",
    "\n",
    "p.xaxis.axis_label_text_font_size = '20pt'\n",
    "p.yaxis.axis_label_text_font_size = '20pt'\n",
    "\n",
    "show(p)"
   ]
  },
  {
   "cell_type": "markdown",
   "metadata": {},
   "source": [
    "## Looks better;\n",
    "\n",
    "## Splitting into train- and test-sets"
   ]
  },
  {
   "cell_type": "code",
   "execution_count": 27,
   "metadata": {},
   "outputs": [],
   "source": [
    "pk_vss_train, pk_vss_test = train_test_split(pk_vss, test_size=0.2, random_state=4)\n",
    "pk_cl_train, pk_cl_test = train_test_split(pk_cl, test_size=0.2, random_state=4)"
   ]
  },
  {
   "cell_type": "code",
   "execution_count": 28,
   "metadata": {},
   "outputs": [
    {
     "data": {
      "text/html": [
       "<div>\n",
       "<style scoped>\n",
       "    .dataframe tbody tr th:only-of-type {\n",
       "        vertical-align: middle;\n",
       "    }\n",
       "\n",
       "    .dataframe tbody tr th {\n",
       "        vertical-align: top;\n",
       "    }\n",
       "\n",
       "    .dataframe thead th {\n",
       "        text-align: right;\n",
       "    }\n",
       "</style>\n",
       "<table border=\"1\" class=\"dataframe\">\n",
       "  <thead>\n",
       "    <tr style=\"text-align: right;\">\n",
       "      <th></th>\n",
       "      <th>MW</th>\n",
       "      <th>HBA</th>\n",
       "      <th>HBD</th>\n",
       "      <th>TPSA_NO</th>\n",
       "      <th>RotBondCount</th>\n",
       "      <th>MoKa.LogP</th>\n",
       "      <th>MoKa.LogD7.4</th>\n",
       "      <th>Crippen_MolMR</th>\n",
       "      <th>Chi0n</th>\n",
       "      <th>Chi0v</th>\n",
       "      <th>Chi1n</th>\n",
       "      <th>Chi1v</th>\n",
       "      <th>Chi2n</th>\n",
       "      <th>Chi2v</th>\n",
       "      <th>Chi3n</th>\n",
       "      <th>Chi3v</th>\n",
       "      <th>Chi4n</th>\n",
       "      <th>Chi4v</th>\n",
       "      <th>ExactMolWt</th>\n",
       "      <th>FractionCSP3</th>\n",
       "      <th>allKierAlpha</th>\n",
       "      <th>Kappa1</th>\n",
       "      <th>Kappa2</th>\n",
       "      <th>Kappa3</th>\n",
       "      <th>LabuteASA</th>\n",
       "      <th>N_AliphCarbC</th>\n",
       "      <th>N_AliphHetC</th>\n",
       "      <th>N_AliphRing</th>\n",
       "      <th>N_AmideBonds</th>\n",
       "      <th>N_AromCarbC</th>\n",
       "      <th>N_AromHetC</th>\n",
       "      <th>N_AromRing</th>\n",
       "      <th>N_AtomStereoCenters</th>\n",
       "      <th>N_BridgeheadAtoms</th>\n",
       "      <th>N_HBA</th>\n",
       "      <th>N_HBD</th>\n",
       "      <th>N_Heteroatoms</th>\n",
       "      <th>N_Heterocycles</th>\n",
       "      <th>N_LipinskiHBA</th>\n",
       "      <th>N_LipinskiHBD</th>\n",
       "      <th>N_Rings</th>\n",
       "      <th>N_RotatableBonds</th>\n",
       "      <th>N_CarbC</th>\n",
       "      <th>N_SatHetC</th>\n",
       "      <th>N_SatRing</th>\n",
       "      <th>N_SpiroAt</th>\n",
       "      <th>N_UnsAtSterCent</th>\n",
       "    </tr>\n",
       "  </thead>\n",
       "  <tbody>\n",
       "    <tr>\n",
       "      <th>615</th>\n",
       "      <td>482.53</td>\n",
       "      <td>8</td>\n",
       "      <td>3</td>\n",
       "      <td>89.7</td>\n",
       "      <td>2</td>\n",
       "      <td>2.50</td>\n",
       "      <td>-0.29</td>\n",
       "      <td>136.9037</td>\n",
       "      <td>20.201696</td>\n",
       "      <td>20.201696</td>\n",
       "      <td>12.381564</td>\n",
       "      <td>12.381564</td>\n",
       "      <td>10.265916</td>\n",
       "      <td>10.265916</td>\n",
       "      <td>8.646890</td>\n",
       "      <td>8.646890</td>\n",
       "      <td>7.378615</td>\n",
       "      <td>7.378615</td>\n",
       "      <td>482.195405</td>\n",
       "      <td>0.321429</td>\n",
       "      <td>-3.43</td>\n",
       "      <td>20.731696</td>\n",
       "      <td>6.657457</td>\n",
       "      <td>2.147352</td>\n",
       "      <td>205.910823</td>\n",
       "      <td>0</td>\n",
       "      <td>3</td>\n",
       "      <td>3</td>\n",
       "      <td>1</td>\n",
       "      <td>3</td>\n",
       "      <td>2</td>\n",
       "      <td>5</td>\n",
       "      <td>5</td>\n",
       "      <td>2</td>\n",
       "      <td>7</td>\n",
       "      <td>3</td>\n",
       "      <td>8</td>\n",
       "      <td>5</td>\n",
       "      <td>8</td>\n",
       "      <td>3</td>\n",
       "      <td>8</td>\n",
       "      <td>2</td>\n",
       "      <td>0</td>\n",
       "      <td>1</td>\n",
       "      <td>1</td>\n",
       "      <td>0</td>\n",
       "      <td>1</td>\n",
       "    </tr>\n",
       "    <tr>\n",
       "      <th>352</th>\n",
       "      <td>228.21</td>\n",
       "      <td>8</td>\n",
       "      <td>3</td>\n",
       "      <td>120.7</td>\n",
       "      <td>2</td>\n",
       "      <td>-2.00</td>\n",
       "      <td>-2.00</td>\n",
       "      <td>52.3240</td>\n",
       "      <td>8.353529</td>\n",
       "      <td>8.353529</td>\n",
       "      <td>4.765733</td>\n",
       "      <td>4.765733</td>\n",
       "      <td>3.519225</td>\n",
       "      <td>3.519225</td>\n",
       "      <td>2.439845</td>\n",
       "      <td>2.439845</td>\n",
       "      <td>1.603095</td>\n",
       "      <td>1.603095</td>\n",
       "      <td>228.085855</td>\n",
       "      <td>0.625000</td>\n",
       "      <td>-1.51</td>\n",
       "      <td>10.989791</td>\n",
       "      <td>4.160619</td>\n",
       "      <td>1.896064</td>\n",
       "      <td>90.322623</td>\n",
       "      <td>0</td>\n",
       "      <td>1</td>\n",
       "      <td>1</td>\n",
       "      <td>0</td>\n",
       "      <td>0</td>\n",
       "      <td>1</td>\n",
       "      <td>1</td>\n",
       "      <td>3</td>\n",
       "      <td>0</td>\n",
       "      <td>8</td>\n",
       "      <td>3</td>\n",
       "      <td>8</td>\n",
       "      <td>2</td>\n",
       "      <td>8</td>\n",
       "      <td>4</td>\n",
       "      <td>2</td>\n",
       "      <td>2</td>\n",
       "      <td>0</td>\n",
       "      <td>1</td>\n",
       "      <td>1</td>\n",
       "      <td>0</td>\n",
       "      <td>0</td>\n",
       "    </tr>\n",
       "    <tr>\n",
       "      <th>630</th>\n",
       "      <td>261.09</td>\n",
       "      <td>4</td>\n",
       "      <td>1</td>\n",
       "      <td>41.6</td>\n",
       "      <td>5</td>\n",
       "      <td>0.88</td>\n",
       "      <td>0.88</td>\n",
       "      <td>59.1912</td>\n",
       "      <td>7.916600</td>\n",
       "      <td>10.322885</td>\n",
       "      <td>4.597962</td>\n",
       "      <td>7.244517</td>\n",
       "      <td>2.946928</td>\n",
       "      <td>5.883787</td>\n",
       "      <td>1.947937</td>\n",
       "      <td>4.606453</td>\n",
       "      <td>1.318848</td>\n",
       "      <td>3.860557</td>\n",
       "      <td>260.024820</td>\n",
       "      <td>1.000000</td>\n",
       "      <td>0.69</td>\n",
       "      <td>12.758074</td>\n",
       "      <td>6.311144</td>\n",
       "      <td>3.368384</td>\n",
       "      <td>94.441535</td>\n",
       "      <td>0</td>\n",
       "      <td>1</td>\n",
       "      <td>1</td>\n",
       "      <td>0</td>\n",
       "      <td>0</td>\n",
       "      <td>0</td>\n",
       "      <td>0</td>\n",
       "      <td>1</td>\n",
       "      <td>0</td>\n",
       "      <td>2</td>\n",
       "      <td>1</td>\n",
       "      <td>7</td>\n",
       "      <td>1</td>\n",
       "      <td>4</td>\n",
       "      <td>1</td>\n",
       "      <td>1</td>\n",
       "      <td>5</td>\n",
       "      <td>0</td>\n",
       "      <td>1</td>\n",
       "      <td>1</td>\n",
       "      <td>0</td>\n",
       "      <td>1</td>\n",
       "    </tr>\n",
       "    <tr>\n",
       "      <th>644</th>\n",
       "      <td>281.31</td>\n",
       "      <td>4</td>\n",
       "      <td>1</td>\n",
       "      <td>57.6</td>\n",
       "      <td>3</td>\n",
       "      <td>2.40</td>\n",
       "      <td>-0.59</td>\n",
       "      <td>79.4483</td>\n",
       "      <td>11.614183</td>\n",
       "      <td>11.614183</td>\n",
       "      <td>6.802268</td>\n",
       "      <td>6.802268</td>\n",
       "      <td>5.199902</td>\n",
       "      <td>5.199902</td>\n",
       "      <td>3.896570</td>\n",
       "      <td>3.896570</td>\n",
       "      <td>2.548428</td>\n",
       "      <td>2.548428</td>\n",
       "      <td>281.105193</td>\n",
       "      <td>0.176471</td>\n",
       "      <td>-2.62</td>\n",
       "      <td>13.367084</td>\n",
       "      <td>5.052450</td>\n",
       "      <td>2.288972</td>\n",
       "      <td>122.184488</td>\n",
       "      <td>0</td>\n",
       "      <td>1</td>\n",
       "      <td>1</td>\n",
       "      <td>1</td>\n",
       "      <td>2</td>\n",
       "      <td>0</td>\n",
       "      <td>2</td>\n",
       "      <td>1</td>\n",
       "      <td>0</td>\n",
       "      <td>2</td>\n",
       "      <td>1</td>\n",
       "      <td>4</td>\n",
       "      <td>1</td>\n",
       "      <td>4</td>\n",
       "      <td>1</td>\n",
       "      <td>3</td>\n",
       "      <td>3</td>\n",
       "      <td>0</td>\n",
       "      <td>0</td>\n",
       "      <td>0</td>\n",
       "      <td>0</td>\n",
       "      <td>1</td>\n",
       "    </tr>\n",
       "    <tr>\n",
       "      <th>568</th>\n",
       "      <td>389.38</td>\n",
       "      <td>9</td>\n",
       "      <td>2</td>\n",
       "      <td>123.0</td>\n",
       "      <td>5</td>\n",
       "      <td>1.70</td>\n",
       "      <td>-0.26</td>\n",
       "      <td>100.3927</td>\n",
       "      <td>15.261063</td>\n",
       "      <td>15.261063</td>\n",
       "      <td>8.978042</td>\n",
       "      <td>8.978042</td>\n",
       "      <td>7.058810</td>\n",
       "      <td>7.058810</td>\n",
       "      <td>5.167537</td>\n",
       "      <td>5.167537</td>\n",
       "      <td>3.595955</td>\n",
       "      <td>3.595955</td>\n",
       "      <td>389.149932</td>\n",
       "      <td>0.444444</td>\n",
       "      <td>-3.01</td>\n",
       "      <td>18.357814</td>\n",
       "      <td>6.860777</td>\n",
       "      <td>2.988630</td>\n",
       "      <td>158.745538</td>\n",
       "      <td>1</td>\n",
       "      <td>1</td>\n",
       "      <td>2</td>\n",
       "      <td>0</td>\n",
       "      <td>0</td>\n",
       "      <td>2</td>\n",
       "      <td>2</td>\n",
       "      <td>1</td>\n",
       "      <td>0</td>\n",
       "      <td>8</td>\n",
       "      <td>2</td>\n",
       "      <td>10</td>\n",
       "      <td>3</td>\n",
       "      <td>9</td>\n",
       "      <td>3</td>\n",
       "      <td>4</td>\n",
       "      <td>5</td>\n",
       "      <td>1</td>\n",
       "      <td>1</td>\n",
       "      <td>2</td>\n",
       "      <td>0</td>\n",
       "      <td>1</td>\n",
       "    </tr>\n",
       "    <tr>\n",
       "      <th>...</th>\n",
       "      <td>...</td>\n",
       "      <td>...</td>\n",
       "      <td>...</td>\n",
       "      <td>...</td>\n",
       "      <td>...</td>\n",
       "      <td>...</td>\n",
       "      <td>...</td>\n",
       "      <td>...</td>\n",
       "      <td>...</td>\n",
       "      <td>...</td>\n",
       "      <td>...</td>\n",
       "      <td>...</td>\n",
       "      <td>...</td>\n",
       "      <td>...</td>\n",
       "      <td>...</td>\n",
       "      <td>...</td>\n",
       "      <td>...</td>\n",
       "      <td>...</td>\n",
       "      <td>...</td>\n",
       "      <td>...</td>\n",
       "      <td>...</td>\n",
       "      <td>...</td>\n",
       "      <td>...</td>\n",
       "      <td>...</td>\n",
       "      <td>...</td>\n",
       "      <td>...</td>\n",
       "      <td>...</td>\n",
       "      <td>...</td>\n",
       "      <td>...</td>\n",
       "      <td>...</td>\n",
       "      <td>...</td>\n",
       "      <td>...</td>\n",
       "      <td>...</td>\n",
       "      <td>...</td>\n",
       "      <td>...</td>\n",
       "      <td>...</td>\n",
       "      <td>...</td>\n",
       "      <td>...</td>\n",
       "      <td>...</td>\n",
       "      <td>...</td>\n",
       "      <td>...</td>\n",
       "      <td>...</td>\n",
       "      <td>...</td>\n",
       "      <td>...</td>\n",
       "      <td>...</td>\n",
       "      <td>...</td>\n",
       "      <td>...</td>\n",
       "    </tr>\n",
       "    <tr>\n",
       "      <th>578</th>\n",
       "      <td>323.41</td>\n",
       "      <td>6</td>\n",
       "      <td>2</td>\n",
       "      <td>78.5</td>\n",
       "      <td>3</td>\n",
       "      <td>1.70</td>\n",
       "      <td>0.20</td>\n",
       "      <td>82.4362</td>\n",
       "      <td>12.579842</td>\n",
       "      <td>13.396339</td>\n",
       "      <td>7.589462</td>\n",
       "      <td>9.072625</td>\n",
       "      <td>6.215525</td>\n",
       "      <td>7.897927</td>\n",
       "      <td>4.544292</td>\n",
       "      <td>5.891185</td>\n",
       "      <td>3.391138</td>\n",
       "      <td>4.293093</td>\n",
       "      <td>323.130363</td>\n",
       "      <td>0.533333</td>\n",
       "      <td>-1.60</td>\n",
       "      <td>15.301626</td>\n",
       "      <td>5.887683</td>\n",
       "      <td>3.250242</td>\n",
       "      <td>130.456212</td>\n",
       "      <td>1</td>\n",
       "      <td>1</td>\n",
       "      <td>2</td>\n",
       "      <td>2</td>\n",
       "      <td>1</td>\n",
       "      <td>0</td>\n",
       "      <td>1</td>\n",
       "      <td>2</td>\n",
       "      <td>0</td>\n",
       "      <td>4</td>\n",
       "      <td>2</td>\n",
       "      <td>7</td>\n",
       "      <td>1</td>\n",
       "      <td>6</td>\n",
       "      <td>2</td>\n",
       "      <td>3</td>\n",
       "      <td>3</td>\n",
       "      <td>1</td>\n",
       "      <td>1</td>\n",
       "      <td>2</td>\n",
       "      <td>0</td>\n",
       "      <td>0</td>\n",
       "    </tr>\n",
       "    <tr>\n",
       "      <th>1067</th>\n",
       "      <td>180.25</td>\n",
       "      <td>3</td>\n",
       "      <td>1</td>\n",
       "      <td>33.6</td>\n",
       "      <td>4</td>\n",
       "      <td>0.91</td>\n",
       "      <td>-2.20</td>\n",
       "      <td>50.6257</td>\n",
       "      <td>7.830153</td>\n",
       "      <td>7.830153</td>\n",
       "      <td>5.370969</td>\n",
       "      <td>5.370969</td>\n",
       "      <td>4.380316</td>\n",
       "      <td>4.380316</td>\n",
       "      <td>3.135372</td>\n",
       "      <td>3.135372</td>\n",
       "      <td>2.096324</td>\n",
       "      <td>2.096324</td>\n",
       "      <td>180.126263</td>\n",
       "      <td>0.900000</td>\n",
       "      <td>-0.73</td>\n",
       "      <td>7.653224</td>\n",
       "      <td>2.893059</td>\n",
       "      <td>1.644159</td>\n",
       "      <td>78.564966</td>\n",
       "      <td>2</td>\n",
       "      <td>1</td>\n",
       "      <td>3</td>\n",
       "      <td>0</td>\n",
       "      <td>0</td>\n",
       "      <td>0</td>\n",
       "      <td>0</td>\n",
       "      <td>0</td>\n",
       "      <td>0</td>\n",
       "      <td>3</td>\n",
       "      <td>1</td>\n",
       "      <td>3</td>\n",
       "      <td>1</td>\n",
       "      <td>3</td>\n",
       "      <td>1</td>\n",
       "      <td>3</td>\n",
       "      <td>3</td>\n",
       "      <td>2</td>\n",
       "      <td>0</td>\n",
       "      <td>2</td>\n",
       "      <td>0</td>\n",
       "      <td>0</td>\n",
       "    </tr>\n",
       "    <tr>\n",
       "      <th>698</th>\n",
       "      <td>229.26</td>\n",
       "      <td>6</td>\n",
       "      <td>2</td>\n",
       "      <td>88.1</td>\n",
       "      <td>2</td>\n",
       "      <td>-1.00</td>\n",
       "      <td>-1.00</td>\n",
       "      <td>56.3632</td>\n",
       "      <td>7.867351</td>\n",
       "      <td>8.683847</td>\n",
       "      <td>4.430532</td>\n",
       "      <td>5.479287</td>\n",
       "      <td>3.078450</td>\n",
       "      <td>4.270900</td>\n",
       "      <td>2.044409</td>\n",
       "      <td>3.153980</td>\n",
       "      <td>1.330063</td>\n",
       "      <td>2.260751</td>\n",
       "      <td>229.052112</td>\n",
       "      <td>0.500000</td>\n",
       "      <td>-1.05</td>\n",
       "      <td>10.467220</td>\n",
       "      <td>4.213447</td>\n",
       "      <td>2.137866</td>\n",
       "      <td>90.066910</td>\n",
       "      <td>0</td>\n",
       "      <td>1</td>\n",
       "      <td>1</td>\n",
       "      <td>0</td>\n",
       "      <td>0</td>\n",
       "      <td>1</td>\n",
       "      <td>1</td>\n",
       "      <td>2</td>\n",
       "      <td>0</td>\n",
       "      <td>7</td>\n",
       "      <td>2</td>\n",
       "      <td>7</td>\n",
       "      <td>2</td>\n",
       "      <td>6</td>\n",
       "      <td>3</td>\n",
       "      <td>2</td>\n",
       "      <td>2</td>\n",
       "      <td>0</td>\n",
       "      <td>1</td>\n",
       "      <td>1</td>\n",
       "      <td>0</td>\n",
       "      <td>0</td>\n",
       "    </tr>\n",
       "    <tr>\n",
       "      <th>292</th>\n",
       "      <td>324.39</td>\n",
       "      <td>3</td>\n",
       "      <td>0</td>\n",
       "      <td>36.3</td>\n",
       "      <td>6</td>\n",
       "      <td>4.10</td>\n",
       "      <td>2.00</td>\n",
       "      <td>90.9140</td>\n",
       "      <td>14.050519</td>\n",
       "      <td>14.050519</td>\n",
       "      <td>8.132551</td>\n",
       "      <td>8.132551</td>\n",
       "      <td>6.513142</td>\n",
       "      <td>6.513142</td>\n",
       "      <td>4.588190</td>\n",
       "      <td>4.588190</td>\n",
       "      <td>3.408709</td>\n",
       "      <td>3.408709</td>\n",
       "      <td>324.163792</td>\n",
       "      <td>0.350000</td>\n",
       "      <td>-2.22</td>\n",
       "      <td>16.631264</td>\n",
       "      <td>6.721078</td>\n",
       "      <td>3.055802</td>\n",
       "      <td>141.833697</td>\n",
       "      <td>0</td>\n",
       "      <td>1</td>\n",
       "      <td>1</td>\n",
       "      <td>0</td>\n",
       "      <td>2</td>\n",
       "      <td>0</td>\n",
       "      <td>2</td>\n",
       "      <td>1</td>\n",
       "      <td>0</td>\n",
       "      <td>3</td>\n",
       "      <td>0</td>\n",
       "      <td>4</td>\n",
       "      <td>1</td>\n",
       "      <td>3</td>\n",
       "      <td>0</td>\n",
       "      <td>3</td>\n",
       "      <td>5</td>\n",
       "      <td>0</td>\n",
       "      <td>0</td>\n",
       "      <td>0</td>\n",
       "      <td>0</td>\n",
       "      <td>1</td>\n",
       "    </tr>\n",
       "    <tr>\n",
       "      <th>186</th>\n",
       "      <td>444.52</td>\n",
       "      <td>5</td>\n",
       "      <td>4</td>\n",
       "      <td>90.1</td>\n",
       "      <td>5</td>\n",
       "      <td>3.30</td>\n",
       "      <td>3.30</td>\n",
       "      <td>116.4182</td>\n",
       "      <td>16.980433</td>\n",
       "      <td>17.796929</td>\n",
       "      <td>10.116908</td>\n",
       "      <td>10.933404</td>\n",
       "      <td>7.885037</td>\n",
       "      <td>9.053365</td>\n",
       "      <td>5.749066</td>\n",
       "      <td>6.883373</td>\n",
       "      <td>3.865865</td>\n",
       "      <td>4.902104</td>\n",
       "      <td>444.140673</td>\n",
       "      <td>0.333333</td>\n",
       "      <td>-2.13</td>\n",
       "      <td>22.077841</td>\n",
       "      <td>9.159724</td>\n",
       "      <td>4.572313</td>\n",
       "      <td>183.555676</td>\n",
       "      <td>0</td>\n",
       "      <td>1</td>\n",
       "      <td>1</td>\n",
       "      <td>0</td>\n",
       "      <td>2</td>\n",
       "      <td>1</td>\n",
       "      <td>3</td>\n",
       "      <td>5</td>\n",
       "      <td>0</td>\n",
       "      <td>6</td>\n",
       "      <td>4</td>\n",
       "      <td>7</td>\n",
       "      <td>2</td>\n",
       "      <td>5</td>\n",
       "      <td>4</td>\n",
       "      <td>4</td>\n",
       "      <td>5</td>\n",
       "      <td>0</td>\n",
       "      <td>1</td>\n",
       "      <td>1</td>\n",
       "      <td>0</td>\n",
       "      <td>0</td>\n",
       "    </tr>\n",
       "  </tbody>\n",
       "</table>\n",
       "<p>716 rows × 47 columns</p>\n",
       "</div>"
      ],
      "text/plain": [
       "          MW  HBA  HBD  TPSA_NO  RotBondCount  MoKa.LogP  MoKa.LogD7.4  \\\n",
       "615   482.53    8    3     89.7             2       2.50         -0.29   \n",
       "352   228.21    8    3    120.7             2      -2.00         -2.00   \n",
       "630   261.09    4    1     41.6             5       0.88          0.88   \n",
       "644   281.31    4    1     57.6             3       2.40         -0.59   \n",
       "568   389.38    9    2    123.0             5       1.70         -0.26   \n",
       "...      ...  ...  ...      ...           ...        ...           ...   \n",
       "578   323.41    6    2     78.5             3       1.70          0.20   \n",
       "1067  180.25    3    1     33.6             4       0.91         -2.20   \n",
       "698   229.26    6    2     88.1             2      -1.00         -1.00   \n",
       "292   324.39    3    0     36.3             6       4.10          2.00   \n",
       "186   444.52    5    4     90.1             5       3.30          3.30   \n",
       "\n",
       "      Crippen_MolMR      Chi0n      Chi0v      Chi1n      Chi1v      Chi2n  \\\n",
       "615        136.9037  20.201696  20.201696  12.381564  12.381564  10.265916   \n",
       "352         52.3240   8.353529   8.353529   4.765733   4.765733   3.519225   \n",
       "630         59.1912   7.916600  10.322885   4.597962   7.244517   2.946928   \n",
       "644         79.4483  11.614183  11.614183   6.802268   6.802268   5.199902   \n",
       "568        100.3927  15.261063  15.261063   8.978042   8.978042   7.058810   \n",
       "...             ...        ...        ...        ...        ...        ...   \n",
       "578         82.4362  12.579842  13.396339   7.589462   9.072625   6.215525   \n",
       "1067        50.6257   7.830153   7.830153   5.370969   5.370969   4.380316   \n",
       "698         56.3632   7.867351   8.683847   4.430532   5.479287   3.078450   \n",
       "292         90.9140  14.050519  14.050519   8.132551   8.132551   6.513142   \n",
       "186        116.4182  16.980433  17.796929  10.116908  10.933404   7.885037   \n",
       "\n",
       "          Chi2v     Chi3n     Chi3v     Chi4n     Chi4v  ExactMolWt  \\\n",
       "615   10.265916  8.646890  8.646890  7.378615  7.378615  482.195405   \n",
       "352    3.519225  2.439845  2.439845  1.603095  1.603095  228.085855   \n",
       "630    5.883787  1.947937  4.606453  1.318848  3.860557  260.024820   \n",
       "644    5.199902  3.896570  3.896570  2.548428  2.548428  281.105193   \n",
       "568    7.058810  5.167537  5.167537  3.595955  3.595955  389.149932   \n",
       "...         ...       ...       ...       ...       ...         ...   \n",
       "578    7.897927  4.544292  5.891185  3.391138  4.293093  323.130363   \n",
       "1067   4.380316  3.135372  3.135372  2.096324  2.096324  180.126263   \n",
       "698    4.270900  2.044409  3.153980  1.330063  2.260751  229.052112   \n",
       "292    6.513142  4.588190  4.588190  3.408709  3.408709  324.163792   \n",
       "186    9.053365  5.749066  6.883373  3.865865  4.902104  444.140673   \n",
       "\n",
       "      FractionCSP3  allKierAlpha     Kappa1    Kappa2    Kappa3   LabuteASA  \\\n",
       "615       0.321429         -3.43  20.731696  6.657457  2.147352  205.910823   \n",
       "352       0.625000         -1.51  10.989791  4.160619  1.896064   90.322623   \n",
       "630       1.000000          0.69  12.758074  6.311144  3.368384   94.441535   \n",
       "644       0.176471         -2.62  13.367084  5.052450  2.288972  122.184488   \n",
       "568       0.444444         -3.01  18.357814  6.860777  2.988630  158.745538   \n",
       "...            ...           ...        ...       ...       ...         ...   \n",
       "578       0.533333         -1.60  15.301626  5.887683  3.250242  130.456212   \n",
       "1067      0.900000         -0.73   7.653224  2.893059  1.644159   78.564966   \n",
       "698       0.500000         -1.05  10.467220  4.213447  2.137866   90.066910   \n",
       "292       0.350000         -2.22  16.631264  6.721078  3.055802  141.833697   \n",
       "186       0.333333         -2.13  22.077841  9.159724  4.572313  183.555676   \n",
       "\n",
       "      N_AliphCarbC  N_AliphHetC  N_AliphRing  N_AmideBonds  N_AromCarbC  \\\n",
       "615              0            3            3             1            3   \n",
       "352              0            1            1             0            0   \n",
       "630              0            1            1             0            0   \n",
       "644              0            1            1             1            2   \n",
       "568              1            1            2             0            0   \n",
       "...            ...          ...          ...           ...          ...   \n",
       "578              1            1            2             2            1   \n",
       "1067             2            1            3             0            0   \n",
       "698              0            1            1             0            0   \n",
       "292              0            1            1             0            2   \n",
       "186              0            1            1             0            2   \n",
       "\n",
       "      N_AromHetC  N_AromRing  N_AtomStereoCenters  N_BridgeheadAtoms  N_HBA  \\\n",
       "615            2           5                    5                  2      7   \n",
       "352            1           1                    3                  0      8   \n",
       "630            0           0                    1                  0      2   \n",
       "644            0           2                    1                  0      2   \n",
       "568            2           2                    1                  0      8   \n",
       "...          ...         ...                  ...                ...    ...   \n",
       "578            0           1                    2                  0      4   \n",
       "1067           0           0                    0                  0      3   \n",
       "698            1           1                    2                  0      7   \n",
       "292            0           2                    1                  0      3   \n",
       "186            1           3                    5                  0      6   \n",
       "\n",
       "      N_HBD  N_Heteroatoms  N_Heterocycles  N_LipinskiHBA  N_LipinskiHBD  \\\n",
       "615       3              8               5              8              3   \n",
       "352       3              8               2              8              4   \n",
       "630       1              7               1              4              1   \n",
       "644       1              4               1              4              1   \n",
       "568       2             10               3              9              3   \n",
       "...     ...            ...             ...            ...            ...   \n",
       "578       2              7               1              6              2   \n",
       "1067      1              3               1              3              1   \n",
       "698       2              7               2              6              3   \n",
       "292       0              4               1              3              0   \n",
       "186       4              7               2              5              4   \n",
       "\n",
       "      N_Rings  N_RotatableBonds  N_CarbC  N_SatHetC  N_SatRing  N_SpiroAt  \\\n",
       "615         8                 2        0          1          1          0   \n",
       "352         2                 2        0          1          1          0   \n",
       "630         1                 5        0          1          1          0   \n",
       "644         3                 3        0          0          0          0   \n",
       "568         4                 5        1          1          2          0   \n",
       "...       ...               ...      ...        ...        ...        ...   \n",
       "578         3                 3        1          1          2          0   \n",
       "1067        3                 3        2          0          2          0   \n",
       "698         2                 2        0          1          1          0   \n",
       "292         3                 5        0          0          0          0   \n",
       "186         4                 5        0          1          1          0   \n",
       "\n",
       "      N_UnsAtSterCent  \n",
       "615                 1  \n",
       "352                 0  \n",
       "630                 1  \n",
       "644                 1  \n",
       "568                 1  \n",
       "...               ...  \n",
       "578                 0  \n",
       "1067                0  \n",
       "698                 0  \n",
       "292                 1  \n",
       "186                 0  \n",
       "\n",
       "[716 rows x 47 columns]"
      ]
     },
     "execution_count": 28,
     "metadata": {},
     "output_type": "execute_result"
    }
   ],
   "source": [
    "# checking last time before modelling\n",
    "pk_vss_train[features]"
   ]
  },
  {
   "cell_type": "code",
   "execution_count": 29,
   "metadata": {},
   "outputs": [
    {
     "data": {
      "text/plain": [
       "False"
      ]
     },
     "execution_count": 29,
     "metadata": {},
     "output_type": "execute_result"
    }
   ],
   "source": [
    "# are there any errors to expect? (with NaN Vss records)\n",
    "\n",
    "pk_vss_train[features].isnull().values.any()"
   ]
  },
  {
   "cell_type": "markdown",
   "metadata": {},
   "source": [
    "# Evaluating linear model (Vss)\n",
    "\n",
    "## (alpha and iteration number selected by previous manual selection of 6-7 different options)"
   ]
  },
  {
   "cell_type": "markdown",
   "metadata": {},
   "source": [
    "# 1. raw data"
   ]
  },
  {
   "cell_type": "code",
   "execution_count": 30,
   "metadata": {},
   "outputs": [
    {
     "data": {
      "text/plain": [
       "Lasso(alpha=0.0001, max_iter=10000000)"
      ]
     },
     "execution_count": 30,
     "metadata": {},
     "output_type": "execute_result"
    }
   ],
   "source": [
    "lasso_raw = linear_model.Lasso(alpha=0.0001, max_iter=10_000_000)\n",
    "lasso_raw.fit(pk_vss_train[features], pk_vss_train[target_vss])"
   ]
  },
  {
   "cell_type": "code",
   "execution_count": 31,
   "metadata": {},
   "outputs": [
    {
     "name": "stdout",
     "output_type": "stream",
     "text": [
      "----> RMSE= \t\t52.185708161339804\n",
      "----> MAE= \t\t6.827111727723389\n",
      "----> R^2= \t\t0.002310849805227666\n"
     ]
    }
   ],
   "source": [
    "evaluate_performance(lasso_raw.predict(pk_vss_test[features]), pk_vss_test[target_vss])"
   ]
  },
  {
   "cell_type": "code",
   "execution_count": 33,
   "metadata": {},
   "outputs": [
    {
     "name": "stdout",
     "output_type": "stream",
     "text": [
      "----> RMSE= \t\t52.185708161339804\n",
      "----> MAE= \t\t6.827111727723389\n",
      "----> R^2= \t\t0.002310849805227666\n"
     ]
    }
   ],
   "source": [
    "evaluate_performance(lasso_raw.predict(pk_vss_test[features]), pk_vss_test[target_vss])"
   ]
  },
  {
   "cell_type": "markdown",
   "metadata": {},
   "source": [
    "## looking at the feature importance"
   ]
  },
  {
   "cell_type": "code",
   "execution_count": 34,
   "metadata": {},
   "outputs": [
    {
     "name": "stdout",
     "output_type": "stream",
     "text": [
      "['MW', 'RotBondCount', 'MoKa.LogP', 'Chi0n', 'Chi1v', 'Chi2n', 'Chi3v', 'Chi4n', 'allKierAlpha', 'Kappa2', 'LabuteASA', 'N_AliphCarbC', 'N_AmideBonds', 'N_AromCarbC', 'N_AromRing', 'N_BridgeheadAtoms', 'N_HBA', 'N_Heteroatoms', 'N_LipinskiHBD', 'N_Rings', 'N_SatHetC', 'N_UnsAtSterCent']\n",
      "['Chi0n', 'Chi1v', 'Chi2n', 'Chi3v', 'Chi4n', 'allKierAlpha', 'N_AliphCarbC', 'N_HBA', 'N_LipinskiHBD']\n",
      "['Chi0n', 'Chi2n', 'allKierAlpha', 'N_AliphCarbC']\n"
     ]
    }
   ],
   "source": [
    "print(list(compress(features, lasso_raw.coef_ > 0.001)))\n",
    "\n",
    "print(list(compress(features, lasso_raw.coef_ > 1)))\n",
    "\n",
    "print(list(compress(features, lasso_raw.coef_ > 2)))"
   ]
  },
  {
   "cell_type": "markdown",
   "metadata": {},
   "source": [
    "# 2. log(data)"
   ]
  },
  {
   "cell_type": "code",
   "execution_count": null,
   "metadata": {},
   "outputs": [],
   "source": [
    "lasso_log = linear_model.Lasso(alpha=0.0001, max_iter=10_000_000)\n",
    "lasso_log.fit(pk_vss_train[features], pk_vss_train[target_log_vss])"
   ]
  },
  {
   "cell_type": "code",
   "execution_count": null,
   "metadata": {},
   "outputs": [],
   "source": [
    "evaluate_performance(lasso_log.predict(pk_vss_test[features]), pk_vss_test[target_log_vss])"
   ]
  },
  {
   "cell_type": "markdown",
   "metadata": {},
   "source": [
    "## again, looking at the feature importance"
   ]
  },
  {
   "cell_type": "code",
   "execution_count": null,
   "metadata": {},
   "outputs": [],
   "source": [
    "print(list(compress(features, lasso_log.coef_ > 0.001)))\n",
    "\n",
    "print(list(compress(features, lasso_log.coef_ > 1)))\n",
    "\n",
    "print(list(compress(features, lasso_log.coef_ > 2)))"
   ]
  },
  {
   "cell_type": "markdown",
   "metadata": {},
   "source": [
    "# Evaluating ridge regression (Vss)\n",
    "\n",
    "## GridSearch"
   ]
  },
  {
   "cell_type": "markdown",
   "metadata": {},
   "source": [
    "# 1. raw data"
   ]
  },
  {
   "cell_type": "code",
   "execution_count": null,
   "metadata": {},
   "outputs": [],
   "source": [
    "ridge_raw = Ridge()\n",
    "cv = RepeatedKFold(n_splits=10, n_repeats=3, random_state=1)\n",
    "\n",
    "# search space for the gridsearch\n",
    "space = dict()\n",
    "space['solver'] = ['svd', 'cholesky', 'lsqr', 'sag']\n",
    "space['alpha'] = [1e-5, 1e-4, 1e-3, 1e-2, 1e-1, 1, 10, 100]\n",
    "space['fit_intercept'] = [True, False]\n",
    "space['normalize'] = [True, False]\n",
    "\n",
    "\n",
    "search = GridSearchCV(ridge_raw, space, scoring='neg_mean_absolute_error', n_jobs=-1, cv=cv)\n",
    "result = search.fit(pk_vss_train[features], pk_vss_train[target_vss])"
   ]
  },
  {
   "cell_type": "code",
   "execution_count": null,
   "metadata": {},
   "outputs": [],
   "source": [
    "# checking out the best parameters:\n",
    "\n",
    "print(result.best_params_)"
   ]
  },
  {
   "cell_type": "code",
   "execution_count": null,
   "metadata": {},
   "outputs": [],
   "source": [
    "# .. and using them for modelling\n",
    "ridge_raw = Ridge(alpha= 0.1, fit_intercept=True, normalize= True, solver= 'svd')"
   ]
  },
  {
   "cell_type": "code",
   "execution_count": null,
   "metadata": {},
   "outputs": [],
   "source": [
    "ridge_raw.fit(pk_vss_train[features], pk_vss_train[target_vss])"
   ]
  },
  {
   "cell_type": "code",
   "execution_count": null,
   "metadata": {},
   "outputs": [],
   "source": [
    "evaluate_performance(ridge_raw.predict(pk_vss_test[features]), pk_vss_test[target_vss])"
   ]
  },
  {
   "cell_type": "markdown",
   "metadata": {},
   "source": [
    "# 2. log(data)"
   ]
  },
  {
   "cell_type": "code",
   "execution_count": null,
   "metadata": {},
   "outputs": [],
   "source": [
    "ridge_log = Ridge()\n",
    "cv = RepeatedKFold(n_splits=10, n_repeats=3, random_state=1)\n",
    "\n",
    "# search space for the gridsearch\n",
    "space = dict()\n",
    "space['solver'] = ['svd', 'cholesky', 'lsqr', 'sag']\n",
    "space['alpha'] = [1e-5, 1e-4, 1e-3, 1e-2, 1e-1, 1, 10, 100]\n",
    "space['fit_intercept'] = [True, False]\n",
    "space['normalize'] = [True, False]\n",
    "\n",
    "\n",
    "search = GridSearchCV(ridge_log, space, scoring='neg_mean_absolute_error', n_jobs=-1, cv=cv)\n",
    "result = search.fit(pk_vss_train[features], pk_vss_train[target_log_vss])"
   ]
  },
  {
   "cell_type": "code",
   "execution_count": null,
   "metadata": {},
   "outputs": [],
   "source": [
    "# checking out the best parameters:\n",
    "\n",
    "print(result.best_params_)"
   ]
  },
  {
   "cell_type": "code",
   "execution_count": null,
   "metadata": {},
   "outputs": [],
   "source": [
    "# .. and using them for modelling\n",
    "ridge_log = Ridge(alpha= 10, fit_intercept=False, normalize= True, solver= 'cholesky')"
   ]
  },
  {
   "cell_type": "code",
   "execution_count": null,
   "metadata": {},
   "outputs": [],
   "source": [
    "ridge_log.fit(pk_vss_train[features], pk_vss_train[target_log_vss])"
   ]
  },
  {
   "cell_type": "code",
   "execution_count": null,
   "metadata": {},
   "outputs": [],
   "source": [
    "evaluate_performance(ridge_log.predict(pk_vss_test[features]), pk_vss_test[target_log_vss])"
   ]
  },
  {
   "cell_type": "markdown",
   "metadata": {},
   "source": [
    "# Evaluating ElasticNet (Vss)\n",
    "\n",
    "## GridSearch"
   ]
  },
  {
   "cell_type": "markdown",
   "metadata": {},
   "source": [
    "# 1. raw data"
   ]
  },
  {
   "cell_type": "code",
   "execution_count": null,
   "metadata": {
    "tags": []
   },
   "outputs": [],
   "source": [
    "elastic_net_raw = ElasticNet()\n",
    "\n",
    "alpha = [0.001, 0.01, 0.1, 1, 10, 100, 1000]\n",
    "l1_ratio = [0, 0.1, 0.2, 0.3, 0.4, 0.5, 0.6, 0.7, 0.8, 0.9, 1]\n",
    "param_grid = dict(alpha=alpha, l1_ratio=l1_ratio)\n",
    "\n",
    "grid = GridSearchCV(estimator=elastic_net_raw, param_grid=param_grid, scoring='r2', verbose=1, n_jobs=-1)\n",
    "\n",
    "grid_result = grid.fit(pk_vss_train[features], pk_vss_train[target_vss])"
   ]
  },
  {
   "cell_type": "code",
   "execution_count": null,
   "metadata": {},
   "outputs": [],
   "source": [
    "# checking best parameters\n",
    "grid_result.best_params_"
   ]
  },
  {
   "cell_type": "code",
   "execution_count": null,
   "metadata": {},
   "outputs": [],
   "source": [
    "# using them for modelling\n",
    "elastic_net_raw = ElasticNet(alpha=.1, l1_ratio=.8, max_iter = 100_000).fit(pk_vss_train[features], pk_vss_train[target_vss])"
   ]
  },
  {
   "cell_type": "code",
   "execution_count": null,
   "metadata": {},
   "outputs": [],
   "source": [
    "evaluate_performance(elastic_net_raw.predict(pk_vss_test[features]), pk_vss_test[target_vss])"
   ]
  },
  {
   "cell_type": "markdown",
   "metadata": {},
   "source": [
    "# 2. log(data)"
   ]
  },
  {
   "cell_type": "code",
   "execution_count": null,
   "metadata": {
    "tags": []
   },
   "outputs": [],
   "source": [
    "elastic_net_log = ElasticNet()\n",
    "\n",
    "alpha = [0.001, 0.01, 0.1, 1, 10, 100, 1000]\n",
    "l1_ratio = [0, 0.1, 0.2, 0.3, 0.4, 0.5, 0.6, 0.7, 0.8, 0.9, 1]\n",
    "param_grid = dict(alpha=alpha, l1_ratio=l1_ratio)\n",
    "\n",
    "grid = GridSearchCV(estimator=elastic_net_log, param_grid=param_grid, scoring='r2', verbose=1, n_jobs=-1)\n",
    "\n",
    "grid_result = grid.fit(pk_vss_train[features], pk_vss_train[target_log_vss])"
   ]
  },
  {
   "cell_type": "code",
   "execution_count": null,
   "metadata": {},
   "outputs": [],
   "source": [
    "# checking best parameters\n",
    "grid_result.best_params_"
   ]
  },
  {
   "cell_type": "code",
   "execution_count": null,
   "metadata": {},
   "outputs": [],
   "source": [
    "# using them for modelling\n",
    "elastic_net_log = ElasticNet(alpha=.1, l1_ratio=0, max_iter = 100_000).fit(pk_vss_train[features], pk_vss_train[target_log_vss])"
   ]
  },
  {
   "cell_type": "code",
   "execution_count": null,
   "metadata": {
    "tags": []
   },
   "outputs": [],
   "source": [
    "evaluate_performance(elastic_net_log.predict(pk_vss_test[features]), pk_vss_test[target_log_vss])"
   ]
  },
  {
   "cell_type": "markdown",
   "metadata": {},
   "source": [
    "# Evaluating Random forest (Vss)\n",
    "\n",
    "## GridSearch"
   ]
  },
  {
   "cell_type": "markdown",
   "metadata": {},
   "source": [
    "# 1. raw data"
   ]
  },
  {
   "cell_type": "code",
   "execution_count": null,
   "metadata": {
    "tags": []
   },
   "outputs": [],
   "source": [
    "tuned_parameters = {'n_estimators': [500, 700, 1000], 'max_depth': [None, 1, 2, 3], 'min_samples_split': [1, 2, 3]}\n",
    "\n",
    "\n",
    "rf_raw = GridSearchCV(RandomForestRegressor(), tuned_parameters, cv=5, \n",
    "                   n_jobs=-1, verbose=1)\n",
    "\n",
    "rf_raw.fit(pk_vss_train[features], pk_vss_train[target_vss])"
   ]
  },
  {
   "cell_type": "code",
   "execution_count": null,
   "metadata": {},
   "outputs": [],
   "source": [
    "# best parameters:\n",
    "\n",
    "rf_raw.best_params_"
   ]
  },
  {
   "cell_type": "code",
   "execution_count": null,
   "metadata": {},
   "outputs": [],
   "source": [
    "# using them for modelling:\n",
    "\n",
    "rf_raw = RandomForestRegressor(max_depth= 2, min_samples_split= 3, n_estimators= 1000).fit(pk_vss_train[features], pk_vss_train[target_vss])"
   ]
  },
  {
   "cell_type": "code",
   "execution_count": null,
   "metadata": {},
   "outputs": [],
   "source": [
    "evaluate_performance(rf_raw.predict(pk_vss_test[features]), pk_vss_test[target_vss])"
   ]
  },
  {
   "cell_type": "markdown",
   "metadata": {},
   "source": [
    "# 2. log(data)"
   ]
  },
  {
   "cell_type": "code",
   "execution_count": null,
   "metadata": {
    "tags": []
   },
   "outputs": [],
   "source": [
    "tuned_parameters = {'n_estimators': [500, 700, 1000], 'max_depth': [None, 1, 2, 3], 'min_samples_split': [1, 2, 3]}\n",
    "\n",
    "\n",
    "rf_log = GridSearchCV(RandomForestRegressor(), tuned_parameters, cv=5, \n",
    "                   n_jobs=-1, verbose=1)\n",
    "\n",
    "rf_log.fit(pk_vss_train[features], pk_vss_train[target_log_vss])"
   ]
  },
  {
   "cell_type": "code",
   "execution_count": null,
   "metadata": {},
   "outputs": [],
   "source": [
    "# best parameters:\n",
    "\n",
    "rf_log.best_params_"
   ]
  },
  {
   "cell_type": "code",
   "execution_count": null,
   "metadata": {},
   "outputs": [],
   "source": [
    "# using them for modelling:\n",
    "\n",
    "rf_log = RandomForestRegressor(max_depth= None, min_samples_split= 3, n_estimators= 1000).fit(pk_vss_train[features], pk_vss_train[target_log_vss])"
   ]
  },
  {
   "cell_type": "code",
   "execution_count": null,
   "metadata": {},
   "outputs": [],
   "source": [
    "evaluate_performance(rf_log.predict(pk_vss_test[features]), pk_vss_test[target_log_vss])"
   ]
  },
  {
   "cell_type": "code",
   "execution_count": null,
   "metadata": {},
   "outputs": [],
   "source": []
  },
  {
   "cell_type": "code",
   "execution_count": null,
   "metadata": {},
   "outputs": [],
   "source": []
  },
  {
   "cell_type": "code",
   "execution_count": null,
   "metadata": {},
   "outputs": [],
   "source": []
  },
  {
   "cell_type": "code",
   "execution_count": null,
   "metadata": {},
   "outputs": [],
   "source": []
  },
  {
   "cell_type": "code",
   "execution_count": null,
   "metadata": {},
   "outputs": [],
   "source": []
  }
 ],
 "metadata": {
  "@deathbeds/jupyterlab-fonts": {
   "fontLicenses": {
    "Fira Code Regular": {
     "holders": [
      "Copyright (c) 2014, Nikita Prokopov http://tonsky.me with Reserved Font Name Fira Code.",
      "Copyright (c) 2014, Mozilla Foundation https://mozilla.org/ with Reserved Font Name Fira Sans.",
      "Copyright (c) 2014, Mozilla Foundation https://mozilla.org/ with Reserved Font Name Fira Mono.",
      "Copyright (c) 2014, Telefonica S.A."
     ],
     "name": "SIL Open Font License 1.1",
     "spdx": "OFL-1.1",
     "text": "Copyright (c) 2014, Nikita Prokopov http://tonsky.me\nwith Reserved Font Name Fira Code.\n\nCopyright (c) 2014, Mozilla Foundation https://mozilla.org/\nwith Reserved Font Name Fira Sans.\n\nCopyright (c) 2014, Mozilla Foundation https://mozilla.org/\nwith Reserved Font Name Fira Mono.\n\nCopyright (c) 2014, Telefonica S.A.\n\nThis Font Software is licensed under the SIL Open Font License, Version 1.1.\nThis license is copied below, and is also available with a FAQ at:\nhttp://scripts.sil.org/OFL\n\n\n-----------------------------------------------------------\nSIL OPEN FONT LICENSE Version 1.1 - 26 February 2007\n-----------------------------------------------------------\n\nPREAMBLE\nThe goals of the Open Font License (OFL) are to stimulate worldwide\ndevelopment of collaborative font projects, to support the font creation\nefforts of academic and linguistic communities, and to provide a free and\nopen framework in which fonts may be shared and improved in partnership\nwith others.\n\nThe OFL allows the licensed fonts to be used, studied, modified and\nredistributed freely as long as they are not sold by themselves. The\nfonts, including any derivative works, can be bundled, embedded,\nredistributed and/or sold with any software provided that any reserved\nnames are not used by derivative works. The fonts and derivatives,\nhowever, cannot be released under any other type of license. The\nrequirement for fonts to remain under this license does not apply\nto any document created using the fonts or their derivatives.\n\nDEFINITIONS\n\"Font Software\" refers to the set of files released by the Copyright\nHolder(s) under this license and clearly marked as such. This may\ninclude source files, build scripts and documentation.\n\n\"Reserved Font Name\" refers to any names specified as such after the\ncopyright statement(s).\n\n\"Original Version\" refers to the collection of Font Software components as\ndistributed by the Copyright Holder(s).\n\n\"Modified Version\" refers to any derivative made by adding to, deleting,\nor substituting -- in part or in whole -- any of the components of the\nOriginal Version, by changing formats or by porting the Font Software to a\nnew environment.\n\n\"Author\" refers to any designer, engineer, programmer, technical\nwriter or other person who contributed to the Font Software.\n\nPERMISSION & CONDITIONS\nPermission is hereby granted, free of charge, to any person obtaining\na copy of the Font Software, to use, study, copy, merge, embed, modify,\nredistribute, and sell modified and unmodified copies of the Font\nSoftware, subject to the following conditions:\n\n1) Neither the Font Software nor any of its individual components,\nin Original or Modified Versions, may be sold by itself.\n\n2) Original or Modified Versions of the Font Software may be bundled,\nredistributed and/or sold with any software, provided that each copy\ncontains the above copyright notice and this license. These can be\nincluded either as stand-alone text files, human-readable headers or\nin the appropriate machine-readable metadata fields within text or\nbinary files as long as those fields can be easily viewed by the user.\n\n3) No Modified Version of the Font Software may use the Reserved Font\nName(s) unless explicit written permission is granted by the corresponding\nCopyright Holder. This restriction only applies to the primary font name as\npresented to the users.\n\n4) The name(s) of the Copyright Holder(s) or the Author(s) of the Font\nSoftware shall not be used to promote, endorse or advertise any\nModified Version, except to acknowledge the contribution(s) of the\nCopyright Holder(s) and the Author(s) or with their explicit written\npermission.\n\n5) The Font Software, modified or unmodified, in part or in whole,\nmust be distributed entirely under this license, and must not be\ndistributed under any other license. The requirement for fonts to\nremain under this license does not apply to any document created\nusing the Font Software.\n\nTERMINATION\nThis license becomes null and void if any of the above conditions are\nnot met.\n\nDISCLAIMER\nTHE FONT SOFTWARE IS PROVIDED \"AS IS\", WITHOUT WARRANTY OF ANY KIND,\nEXPRESS OR IMPLIED, INCLUDING BUT NOT LIMITED TO ANY WARRANTIES OF\nMERCHANTABILITY, FITNESS FOR A PARTICULAR PURPOSE AND NONINFRINGEMENT\nOF COPYRIGHT, PATENT, TRADEMARK, OR OTHER RIGHT. IN NO EVENT SHALL THE\nCOPYRIGHT HOLDER BE LIABLE FOR ANY CLAIM, DAMAGES OR OTHER LIABILITY,\nINCLUDING ANY GENERAL, SPECIAL, INDIRECT, INCIDENTAL, OR CONSEQUENTIAL\nDAMAGES, WHETHER IN AN ACTION OF CONTRACT, TORT OR OTHERWISE, ARISING\nFROM, OUT OF THE USE OR INABILITY TO USE THE FONT SOFTWARE OR FROM\nOTHER DEALINGS IN THE FONT SOFTWARE.\n"
    }
   },
   "fonts": {
    "Fira Code Regular": [
     {
      "fontFamily": "'Fira Code Regular'",
      "src": "url('data:font/woff2;charset=utf-8;base64,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') format('woff2')"
     }
    ]
   },
   "styles": {
    ":root": {
     "--jp-code-font-family": "'Fira Code Regular'"
    }
   }
  },
  "kernelspec": {
   "display_name": "Python 3 (ipykernel)",
   "language": "python",
   "name": "python3"
  },
  "language_info": {
   "codemirror_mode": {
    "name": "ipython",
    "version": 3
   },
   "file_extension": ".py",
   "mimetype": "text/x-python",
   "name": "python",
   "nbconvert_exporter": "python",
   "pygments_lexer": "ipython3",
   "version": "3.8.12"
  }
 },
 "nbformat": 4,
 "nbformat_minor": 4
}
